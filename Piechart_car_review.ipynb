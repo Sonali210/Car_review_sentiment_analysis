{
  "nbformat": 4,
  "nbformat_minor": 0,
  "metadata": {
    "colab": {
      "name": "Piechart car review.ipynb",
      "provenance": [],
      "collapsed_sections": []
    },
    "kernelspec": {
      "name": "python3",
      "display_name": "Python 3"
    },
    "language_info": {
      "name": "python"
    }
  },
  "cells": [
    {
      "cell_type": "markdown",
      "source": [
        "Nexon EV"
      ],
      "metadata": {
        "id": "Z39pSwqxCLdV"
      }
    },
    {
      "cell_type": "code",
      "execution_count": null,
      "metadata": {
        "id": "kmkF6I3hLCGI"
      },
      "outputs": [],
      "source": [
        "import pandas as pd"
      ]
    },
    {
      "cell_type": "code",
      "source": [
        "data_nexon = pd.concat(map(pd.read_csv, ['/content/Tata_nexon.csv', '/content/Tata_nexon_2.csv']))"
      ],
      "metadata": {
        "id": "2kNl6fBgLT2V"
      },
      "execution_count": null,
      "outputs": []
    },
    {
      "cell_type": "code",
      "source": [
        "data_nexon.head()"
      ],
      "metadata": {
        "colab": {
          "base_uri": "https://localhost:8080/",
          "height": 354
        },
        "id": "CmSedqV9_D4A",
        "outputId": "287c4969-7838-4067-966e-1bad2c5e8ab3"
      },
      "execution_count": null,
      "outputs": [
        {
          "output_type": "execute_result",
          "data": {
            "text/plain": [
              "   Unnamed: 0                        Heading  \\\n",
              "0           0               Amazing Nexon Ev   \n",
              "1           1  300 km range vs 400 km range.   \n",
              "2           2                      Great Car   \n",
              "3           3           Tata nexon EV review   \n",
              "4           4                       Good car   \n",
              "\n",
              "                                              Review  Read_more  \\\n",
              "0  Amazing car for daily usage please plan the ch...  Read More   \n",
              "1  After driving Nexon EV for a few times, i feel...  Read More   \n",
              "2  Really very Amazing experience.Just loved that...  Read More   \n",
              "3  Yes you can go for electric vehicle because it...  Read More   \n",
              "4  Good car with good safety and comfort with all...  Read More   \n",
              "\n",
              "                          Time User Date comment share  \n",
              "0   18 days ago | Rakshith B R  NaN  NaN     NaN   NaN  \n",
              "1         2 months ago | David  NaN  NaN     NaN   NaN  \n",
              "2        4 months ago | Ruthik  NaN  NaN     NaN   NaN  \n",
              "3  5 months ago | Pitho hansda  NaN  NaN     NaN   NaN  \n",
              "4          6 months ago | Puni  NaN  NaN     NaN   NaN  "
            ],
            "text/html": [
              "\n",
              "  <div id=\"df-d317de16-c5aa-4e86-bcf7-50136aba6dfa\">\n",
              "    <div class=\"colab-df-container\">\n",
              "      <div>\n",
              "<style scoped>\n",
              "    .dataframe tbody tr th:only-of-type {\n",
              "        vertical-align: middle;\n",
              "    }\n",
              "\n",
              "    .dataframe tbody tr th {\n",
              "        vertical-align: top;\n",
              "    }\n",
              "\n",
              "    .dataframe thead th {\n",
              "        text-align: right;\n",
              "    }\n",
              "</style>\n",
              "<table border=\"1\" class=\"dataframe\">\n",
              "  <thead>\n",
              "    <tr style=\"text-align: right;\">\n",
              "      <th></th>\n",
              "      <th>Unnamed: 0</th>\n",
              "      <th>Heading</th>\n",
              "      <th>Review</th>\n",
              "      <th>Read_more</th>\n",
              "      <th>Time</th>\n",
              "      <th>User</th>\n",
              "      <th>Date</th>\n",
              "      <th>comment</th>\n",
              "      <th>share</th>\n",
              "    </tr>\n",
              "  </thead>\n",
              "  <tbody>\n",
              "    <tr>\n",
              "      <th>0</th>\n",
              "      <td>0</td>\n",
              "      <td>Amazing Nexon Ev</td>\n",
              "      <td>Amazing car for daily usage please plan the ch...</td>\n",
              "      <td>Read More</td>\n",
              "      <td>18 days ago | Rakshith B R</td>\n",
              "      <td>NaN</td>\n",
              "      <td>NaN</td>\n",
              "      <td>NaN</td>\n",
              "      <td>NaN</td>\n",
              "    </tr>\n",
              "    <tr>\n",
              "      <th>1</th>\n",
              "      <td>1</td>\n",
              "      <td>300 km range vs 400 km range.</td>\n",
              "      <td>After driving Nexon EV for a few times, i feel...</td>\n",
              "      <td>Read More</td>\n",
              "      <td>2 months ago | David</td>\n",
              "      <td>NaN</td>\n",
              "      <td>NaN</td>\n",
              "      <td>NaN</td>\n",
              "      <td>NaN</td>\n",
              "    </tr>\n",
              "    <tr>\n",
              "      <th>2</th>\n",
              "      <td>2</td>\n",
              "      <td>Great Car</td>\n",
              "      <td>Really very Amazing experience.Just loved that...</td>\n",
              "      <td>Read More</td>\n",
              "      <td>4 months ago | Ruthik</td>\n",
              "      <td>NaN</td>\n",
              "      <td>NaN</td>\n",
              "      <td>NaN</td>\n",
              "      <td>NaN</td>\n",
              "    </tr>\n",
              "    <tr>\n",
              "      <th>3</th>\n",
              "      <td>3</td>\n",
              "      <td>Tata nexon EV review</td>\n",
              "      <td>Yes you can go for electric vehicle because it...</td>\n",
              "      <td>Read More</td>\n",
              "      <td>5 months ago | Pitho hansda</td>\n",
              "      <td>NaN</td>\n",
              "      <td>NaN</td>\n",
              "      <td>NaN</td>\n",
              "      <td>NaN</td>\n",
              "    </tr>\n",
              "    <tr>\n",
              "      <th>4</th>\n",
              "      <td>4</td>\n",
              "      <td>Good car</td>\n",
              "      <td>Good car with good safety and comfort with all...</td>\n",
              "      <td>Read More</td>\n",
              "      <td>6 months ago | Puni</td>\n",
              "      <td>NaN</td>\n",
              "      <td>NaN</td>\n",
              "      <td>NaN</td>\n",
              "      <td>NaN</td>\n",
              "    </tr>\n",
              "  </tbody>\n",
              "</table>\n",
              "</div>\n",
              "      <button class=\"colab-df-convert\" onclick=\"convertToInteractive('df-d317de16-c5aa-4e86-bcf7-50136aba6dfa')\"\n",
              "              title=\"Convert this dataframe to an interactive table.\"\n",
              "              style=\"display:none;\">\n",
              "        \n",
              "  <svg xmlns=\"http://www.w3.org/2000/svg\" height=\"24px\"viewBox=\"0 0 24 24\"\n",
              "       width=\"24px\">\n",
              "    <path d=\"M0 0h24v24H0V0z\" fill=\"none\"/>\n",
              "    <path d=\"M18.56 5.44l.94 2.06.94-2.06 2.06-.94-2.06-.94-.94-2.06-.94 2.06-2.06.94zm-11 1L8.5 8.5l.94-2.06 2.06-.94-2.06-.94L8.5 2.5l-.94 2.06-2.06.94zm10 10l.94 2.06.94-2.06 2.06-.94-2.06-.94-.94-2.06-.94 2.06-2.06.94z\"/><path d=\"M17.41 7.96l-1.37-1.37c-.4-.4-.92-.59-1.43-.59-.52 0-1.04.2-1.43.59L10.3 9.45l-7.72 7.72c-.78.78-.78 2.05 0 2.83L4 21.41c.39.39.9.59 1.41.59.51 0 1.02-.2 1.41-.59l7.78-7.78 2.81-2.81c.8-.78.8-2.07 0-2.86zM5.41 20L4 18.59l7.72-7.72 1.47 1.35L5.41 20z\"/>\n",
              "  </svg>\n",
              "      </button>\n",
              "      \n",
              "  <style>\n",
              "    .colab-df-container {\n",
              "      display:flex;\n",
              "      flex-wrap:wrap;\n",
              "      gap: 12px;\n",
              "    }\n",
              "\n",
              "    .colab-df-convert {\n",
              "      background-color: #E8F0FE;\n",
              "      border: none;\n",
              "      border-radius: 50%;\n",
              "      cursor: pointer;\n",
              "      display: none;\n",
              "      fill: #1967D2;\n",
              "      height: 32px;\n",
              "      padding: 0 0 0 0;\n",
              "      width: 32px;\n",
              "    }\n",
              "\n",
              "    .colab-df-convert:hover {\n",
              "      background-color: #E2EBFA;\n",
              "      box-shadow: 0px 1px 2px rgba(60, 64, 67, 0.3), 0px 1px 3px 1px rgba(60, 64, 67, 0.15);\n",
              "      fill: #174EA6;\n",
              "    }\n",
              "\n",
              "    [theme=dark] .colab-df-convert {\n",
              "      background-color: #3B4455;\n",
              "      fill: #D2E3FC;\n",
              "    }\n",
              "\n",
              "    [theme=dark] .colab-df-convert:hover {\n",
              "      background-color: #434B5C;\n",
              "      box-shadow: 0px 1px 3px 1px rgba(0, 0, 0, 0.15);\n",
              "      filter: drop-shadow(0px 1px 2px rgba(0, 0, 0, 0.3));\n",
              "      fill: #FFFFFF;\n",
              "    }\n",
              "  </style>\n",
              "\n",
              "      <script>\n",
              "        const buttonEl =\n",
              "          document.querySelector('#df-d317de16-c5aa-4e86-bcf7-50136aba6dfa button.colab-df-convert');\n",
              "        buttonEl.style.display =\n",
              "          google.colab.kernel.accessAllowed ? 'block' : 'none';\n",
              "\n",
              "        async function convertToInteractive(key) {\n",
              "          const element = document.querySelector('#df-d317de16-c5aa-4e86-bcf7-50136aba6dfa');\n",
              "          const dataTable =\n",
              "            await google.colab.kernel.invokeFunction('convertToInteractive',\n",
              "                                                     [key], {});\n",
              "          if (!dataTable) return;\n",
              "\n",
              "          const docLinkHtml = 'Like what you see? Visit the ' +\n",
              "            '<a target=\"_blank\" href=https://colab.research.google.com/notebooks/data_table.ipynb>data table notebook</a>'\n",
              "            + ' to learn more about interactive tables.';\n",
              "          element.innerHTML = '';\n",
              "          dataTable['output_type'] = 'display_data';\n",
              "          await google.colab.output.renderOutput(dataTable, element);\n",
              "          const docLink = document.createElement('div');\n",
              "          docLink.innerHTML = docLinkHtml;\n",
              "          element.appendChild(docLink);\n",
              "        }\n",
              "      </script>\n",
              "    </div>\n",
              "  </div>\n",
              "  "
            ]
          },
          "metadata": {},
          "execution_count": 110
        }
      ]
    },
    {
      "cell_type": "code",
      "source": [
        "import re\n",
        "import nltk\n",
        "nltk.download('stopwords')\n",
        "nltk.download('punkt')\n",
        "from nltk.corpus import stopwords"
      ],
      "metadata": {
        "colab": {
          "base_uri": "https://localhost:8080/"
        },
        "id": "5NuRX6sLXX1q",
        "outputId": "98c1cd3a-540b-4981-f2cd-503afa236e8e"
      },
      "execution_count": null,
      "outputs": [
        {
          "output_type": "stream",
          "name": "stdout",
          "text": [
            "[nltk_data] Downloading package stopwords to /root/nltk_data...\n",
            "[nltk_data]   Package stopwords is already up-to-date!\n",
            "[nltk_data] Downloading package punkt to /root/nltk_data...\n",
            "[nltk_data]   Package punkt is already up-to-date!\n"
          ]
        }
      ]
    },
    {
      "cell_type": "code",
      "source": [
        "def clean_stopwords_shortwords(w):\n",
        "    stopwords_list=stopwords.words('english')\n",
        "    words = w.split() \n",
        "    clean_words = [word for word in words if (word not in stopwords_list) and len(word) > 2]\n",
        "    return \" \".join(clean_words) \n",
        "\n",
        "#Combined function that will be called to preprocess our text data\n",
        "def preprocess_sentence(w):\n",
        "    #lowercase all the text\n",
        "    w = w.lower()\n",
        "    #Remove puntuations\n",
        "    w = re.sub(r'[^\\w\\s]', '', w)\n",
        "    w = re.sub(r\"([?.!,¿])\", r\" \", w)\n",
        "    w = re.sub(r'[\" \"]+', \" \", w)\n",
        "    w = re.sub(r\"[^a-zA-Z?.!,¿]+\", \" \", w)\n",
        "    #Calling stopword function\n",
        "    w=clean_stopwords_shortwords(w)\n",
        "    return w"
      ],
      "metadata": {
        "id": "U8c8Zo6oXGrK"
      },
      "execution_count": null,
      "outputs": []
    },
    {
      "cell_type": "code",
      "source": [
        "data_nexon['Preprocessed_Review']=data_nexon['Review'].map(preprocess_sentence)"
      ],
      "metadata": {
        "id": "u4xZ9iO9XdME"
      },
      "execution_count": null,
      "outputs": []
    },
    {
      "cell_type": "code",
      "source": [
        "data_nexon.head()"
      ],
      "metadata": {
        "colab": {
          "base_uri": "https://localhost:8080/",
          "height": 441
        },
        "id": "hc2I6G6jN22D",
        "outputId": "e9b56ffa-0655-4672-d59c-38ad7b97e574"
      },
      "execution_count": null,
      "outputs": [
        {
          "output_type": "execute_result",
          "data": {
            "text/plain": [
              "   Unnamed: 0                        Heading  \\\n",
              "0           0               Amazing Nexon Ev   \n",
              "1           1  300 km range vs 400 km range.   \n",
              "2           2                      Great Car   \n",
              "3           3           Tata nexon EV review   \n",
              "4           4                       Good car   \n",
              "\n",
              "                                              Review  Read_more  \\\n",
              "0  Amazing car for daily usage please plan the ch...  Read More   \n",
              "1  After driving Nexon EV for a few times, i feel...  Read More   \n",
              "2  Really very Amazing experience.Just loved that...  Read More   \n",
              "3  Yes you can go for electric vehicle because it...  Read More   \n",
              "4  Good car with good safety and comfort with all...  Read More   \n",
              "\n",
              "                          Time User Date comment share  \\\n",
              "0   18 days ago | Rakshith B R  NaN  NaN     NaN   NaN   \n",
              "1         2 months ago | David  NaN  NaN     NaN   NaN   \n",
              "2        4 months ago | Ruthik  NaN  NaN     NaN   NaN   \n",
              "3  5 months ago | Pitho hansda  NaN  NaN     NaN   NaN   \n",
              "4          6 months ago | Puni  NaN  NaN     NaN   NaN   \n",
              "\n",
              "                                 Preprocessed_Review  \n",
              "0  amazing car daily usage please plan charging s...  \n",
              "1  driving nexon times feel much factors really m...  \n",
              "2  really amazing experiencejust loved carso beau...  \n",
              "3  yes electric vehicle good average running back...  \n",
              "4               good car good safety comfort options  "
            ],
            "text/html": [
              "\n",
              "  <div id=\"df-c0cd5020-ddb7-45ed-a633-b08af03987ef\">\n",
              "    <div class=\"colab-df-container\">\n",
              "      <div>\n",
              "<style scoped>\n",
              "    .dataframe tbody tr th:only-of-type {\n",
              "        vertical-align: middle;\n",
              "    }\n",
              "\n",
              "    .dataframe tbody tr th {\n",
              "        vertical-align: top;\n",
              "    }\n",
              "\n",
              "    .dataframe thead th {\n",
              "        text-align: right;\n",
              "    }\n",
              "</style>\n",
              "<table border=\"1\" class=\"dataframe\">\n",
              "  <thead>\n",
              "    <tr style=\"text-align: right;\">\n",
              "      <th></th>\n",
              "      <th>Unnamed: 0</th>\n",
              "      <th>Heading</th>\n",
              "      <th>Review</th>\n",
              "      <th>Read_more</th>\n",
              "      <th>Time</th>\n",
              "      <th>User</th>\n",
              "      <th>Date</th>\n",
              "      <th>comment</th>\n",
              "      <th>share</th>\n",
              "      <th>Preprocessed_Review</th>\n",
              "    </tr>\n",
              "  </thead>\n",
              "  <tbody>\n",
              "    <tr>\n",
              "      <th>0</th>\n",
              "      <td>0</td>\n",
              "      <td>Amazing Nexon Ev</td>\n",
              "      <td>Amazing car for daily usage please plan the ch...</td>\n",
              "      <td>Read More</td>\n",
              "      <td>18 days ago | Rakshith B R</td>\n",
              "      <td>NaN</td>\n",
              "      <td>NaN</td>\n",
              "      <td>NaN</td>\n",
              "      <td>NaN</td>\n",
              "      <td>amazing car daily usage please plan charging s...</td>\n",
              "    </tr>\n",
              "    <tr>\n",
              "      <th>1</th>\n",
              "      <td>1</td>\n",
              "      <td>300 km range vs 400 km range.</td>\n",
              "      <td>After driving Nexon EV for a few times, i feel...</td>\n",
              "      <td>Read More</td>\n",
              "      <td>2 months ago | David</td>\n",
              "      <td>NaN</td>\n",
              "      <td>NaN</td>\n",
              "      <td>NaN</td>\n",
              "      <td>NaN</td>\n",
              "      <td>driving nexon times feel much factors really m...</td>\n",
              "    </tr>\n",
              "    <tr>\n",
              "      <th>2</th>\n",
              "      <td>2</td>\n",
              "      <td>Great Car</td>\n",
              "      <td>Really very Amazing experience.Just loved that...</td>\n",
              "      <td>Read More</td>\n",
              "      <td>4 months ago | Ruthik</td>\n",
              "      <td>NaN</td>\n",
              "      <td>NaN</td>\n",
              "      <td>NaN</td>\n",
              "      <td>NaN</td>\n",
              "      <td>really amazing experiencejust loved carso beau...</td>\n",
              "    </tr>\n",
              "    <tr>\n",
              "      <th>3</th>\n",
              "      <td>3</td>\n",
              "      <td>Tata nexon EV review</td>\n",
              "      <td>Yes you can go for electric vehicle because it...</td>\n",
              "      <td>Read More</td>\n",
              "      <td>5 months ago | Pitho hansda</td>\n",
              "      <td>NaN</td>\n",
              "      <td>NaN</td>\n",
              "      <td>NaN</td>\n",
              "      <td>NaN</td>\n",
              "      <td>yes electric vehicle good average running back...</td>\n",
              "    </tr>\n",
              "    <tr>\n",
              "      <th>4</th>\n",
              "      <td>4</td>\n",
              "      <td>Good car</td>\n",
              "      <td>Good car with good safety and comfort with all...</td>\n",
              "      <td>Read More</td>\n",
              "      <td>6 months ago | Puni</td>\n",
              "      <td>NaN</td>\n",
              "      <td>NaN</td>\n",
              "      <td>NaN</td>\n",
              "      <td>NaN</td>\n",
              "      <td>good car good safety comfort options</td>\n",
              "    </tr>\n",
              "  </tbody>\n",
              "</table>\n",
              "</div>\n",
              "      <button class=\"colab-df-convert\" onclick=\"convertToInteractive('df-c0cd5020-ddb7-45ed-a633-b08af03987ef')\"\n",
              "              title=\"Convert this dataframe to an interactive table.\"\n",
              "              style=\"display:none;\">\n",
              "        \n",
              "  <svg xmlns=\"http://www.w3.org/2000/svg\" height=\"24px\"viewBox=\"0 0 24 24\"\n",
              "       width=\"24px\">\n",
              "    <path d=\"M0 0h24v24H0V0z\" fill=\"none\"/>\n",
              "    <path d=\"M18.56 5.44l.94 2.06.94-2.06 2.06-.94-2.06-.94-.94-2.06-.94 2.06-2.06.94zm-11 1L8.5 8.5l.94-2.06 2.06-.94-2.06-.94L8.5 2.5l-.94 2.06-2.06.94zm10 10l.94 2.06.94-2.06 2.06-.94-2.06-.94-.94-2.06-.94 2.06-2.06.94z\"/><path d=\"M17.41 7.96l-1.37-1.37c-.4-.4-.92-.59-1.43-.59-.52 0-1.04.2-1.43.59L10.3 9.45l-7.72 7.72c-.78.78-.78 2.05 0 2.83L4 21.41c.39.39.9.59 1.41.59.51 0 1.02-.2 1.41-.59l7.78-7.78 2.81-2.81c.8-.78.8-2.07 0-2.86zM5.41 20L4 18.59l7.72-7.72 1.47 1.35L5.41 20z\"/>\n",
              "  </svg>\n",
              "      </button>\n",
              "      \n",
              "  <style>\n",
              "    .colab-df-container {\n",
              "      display:flex;\n",
              "      flex-wrap:wrap;\n",
              "      gap: 12px;\n",
              "    }\n",
              "\n",
              "    .colab-df-convert {\n",
              "      background-color: #E8F0FE;\n",
              "      border: none;\n",
              "      border-radius: 50%;\n",
              "      cursor: pointer;\n",
              "      display: none;\n",
              "      fill: #1967D2;\n",
              "      height: 32px;\n",
              "      padding: 0 0 0 0;\n",
              "      width: 32px;\n",
              "    }\n",
              "\n",
              "    .colab-df-convert:hover {\n",
              "      background-color: #E2EBFA;\n",
              "      box-shadow: 0px 1px 2px rgba(60, 64, 67, 0.3), 0px 1px 3px 1px rgba(60, 64, 67, 0.15);\n",
              "      fill: #174EA6;\n",
              "    }\n",
              "\n",
              "    [theme=dark] .colab-df-convert {\n",
              "      background-color: #3B4455;\n",
              "      fill: #D2E3FC;\n",
              "    }\n",
              "\n",
              "    [theme=dark] .colab-df-convert:hover {\n",
              "      background-color: #434B5C;\n",
              "      box-shadow: 0px 1px 3px 1px rgba(0, 0, 0, 0.15);\n",
              "      filter: drop-shadow(0px 1px 2px rgba(0, 0, 0, 0.3));\n",
              "      fill: #FFFFFF;\n",
              "    }\n",
              "  </style>\n",
              "\n",
              "      <script>\n",
              "        const buttonEl =\n",
              "          document.querySelector('#df-c0cd5020-ddb7-45ed-a633-b08af03987ef button.colab-df-convert');\n",
              "        buttonEl.style.display =\n",
              "          google.colab.kernel.accessAllowed ? 'block' : 'none';\n",
              "\n",
              "        async function convertToInteractive(key) {\n",
              "          const element = document.querySelector('#df-c0cd5020-ddb7-45ed-a633-b08af03987ef');\n",
              "          const dataTable =\n",
              "            await google.colab.kernel.invokeFunction('convertToInteractive',\n",
              "                                                     [key], {});\n",
              "          if (!dataTable) return;\n",
              "\n",
              "          const docLinkHtml = 'Like what you see? Visit the ' +\n",
              "            '<a target=\"_blank\" href=https://colab.research.google.com/notebooks/data_table.ipynb>data table notebook</a>'\n",
              "            + ' to learn more about interactive tables.';\n",
              "          element.innerHTML = '';\n",
              "          dataTable['output_type'] = 'display_data';\n",
              "          await google.colab.output.renderOutput(dataTable, element);\n",
              "          const docLink = document.createElement('div');\n",
              "          docLink.innerHTML = docLinkHtml;\n",
              "          element.appendChild(docLink);\n",
              "        }\n",
              "      </script>\n",
              "    </div>\n",
              "  </div>\n",
              "  "
            ]
          },
          "metadata": {},
          "execution_count": 114
        }
      ]
    },
    {
      "cell_type": "code",
      "source": [
        "import numpy as np\n",
        "import matplotlib.pyplot as plt\n",
        "import seaborn as sns\n",
        "%matplotlib inline"
      ],
      "metadata": {
        "id": "lH6rjyeFou0x"
      },
      "execution_count": null,
      "outputs": []
    },
    {
      "cell_type": "code",
      "source": [
        "Battery = data_nexon.Preprocessed_Review.str.split(expand=True).stack().value_counts().battery\n",
        "Range = data_nexon.Preprocessed_Review.str.split(expand=True).stack().value_counts().range\n",
        "Power = data_nexon.Preprocessed_Review.str.split(expand=True).stack().value_counts().power\n",
        "Performance = data_nexon.Preprocessed_Review.str.split(expand=True).stack().value_counts().performance\n",
        "comfort = data_nexon.Preprocessed_Review.str.split(expand=True).stack().value_counts().comfort\n",
        "space = data_nexon.Preprocessed_Review.str.split(expand=True).stack().value_counts().space\n",
        "Mileage = data_nexon.Preprocessed_Review.str.split(expand=True).stack().value_counts().mileage \n",
        "design = data_nexon.Preprocessed_Review.str.split(expand=True).stack().value_counts().design  "
      ],
      "metadata": {
        "id": "BmsfedGL_4Qs"
      },
      "execution_count": null,
      "outputs": []
    },
    {
      "cell_type": "code",
      "source": [
        "res=[]\n",
        "attributes = ['range', 'battery', 'power', 'performance', 'comfort', 'space', 'mileage', 'design']\n",
        "for attri in attributes:\n",
        "  print(attri)\n",
        "  for review in data_nexon['Review']:\n",
        "    review = re.compile('[.?!]').split(review)\n",
        "    for i in review:\n",
        "      if attri in i:\n",
        "        res.append(i)\n",
        "  print(res)\n",
        "      #nexon = re.compile('[.?!]').split(i)\n",
        "      #print(nexon)   \n"
      ],
      "metadata": {
        "colab": {
          "base_uri": "https://localhost:8080/"
        },
        "id": "him5Z1WNgJI6",
        "outputId": "dc4b8fe7-42e6-4c7f-eac3-7cea2791b3ff"
      },
      "execution_count": null,
      "outputs": [
        {
          "output_type": "stream",
          "name": "stdout",
          "text": [
            "range\n",
            "[' Tata should lower the Nexon price and increase market share Tata Punch EV - 5-8 Lakhs Tata Nexon EV 300 km range - 8-10 Lakhs Tata Nexon EV 400 km range - 10-15 Lakhs Because, the affordability in lower range and availability in mid-range is important optional swappable range extender batteries would become a super hit like partnering with swappable battery stations', 'Need to increase mileage, battery capacity so range also increases, other features are good', ' It gives me a range of 200-220 km on full AC', ' If i use it in city and highways I get a range of 170-180 km if used strictly in city and small lanes with average speed not going above 30kms', ' Approximate range according to my driving with AC ,music system etc always switched on', \" It can't be only car to own due to under developing charging infrastructure and insufficient range\", 'The best electronic car in India in this price range obsolete use of money Tata nexon is my favourite car because I love electronic cars ', 'Beautiful looks both interior and exterior, all are comfortable as like a medium range car', 'This car is the most value for money and not further any servicing charge pay on due to this car no effect on an environment This car range is very good which is 312km / charge This is the best car in the segment of tata motors Thank you', \"5-litre diesel engine with a top-class interior and comfortable on long route smooth and very tough body of tata as it's one of the best model tata has made I am not a person who just praise like that but it's an ultimate car muv in this range and I have\", ' The range are also so comfortable', ' There is only two primary deterrents, I see, the range and available charging stations', ' I expect at least a range of 400 km or charging stations at least at each of the toll plazas', ' Price range and mileage is best in this class', ' Its range is also good', \" The range is very limited, can't operate AC to ensure reaching home without being stuck in the middle\", ' You can get a range of 180 to 190 with AC, without AC you Can Get a Range of 200 to 220', ' does not give the range as the company says', ' The company says the range is 250 km per charge but only goes 160 km per charge', ' A realistic range of 210-240kms and depending on your driving style, you can get more', 'After reading all such reviews I would like to have this Electric miracle in 2027-28 when It would be more affordable to me in the range of 7-8 Lacs', 'Charging stations are less available and running range also not sufficient', 'Tata Nexon EV is one of the best affordable long-range electric vehicle available in India', 'I am highly disappointed by this car due to the range and behavior of the dealer', ' I am driving this car daily for the last four months and very much upset by the real-world range', ' Company claims a range of 300 but the real-world range is 140 km per charge with AC, and 150 km without AC', ' But for my friends, i have daily commute of 70-80 KM and in the city, I am getting 220-230 range with a single charge', ' Getting a range of 210km for 100%', ' Normally I recharge it when it comes to 25% for which I used to get a range of 165 to 170kms (for 75%)', 'Tata Nexon EV is an innovative car, 5 stars crash rating safest, connected, 3 variants, the perfect car for sustainable mobility, good range, low maintenance, globally first A Benchmark', ' The response time is excellent range per full charge is around 200km within the city', ' The 30 KW battery is sufficient for city drive but there should have been a higher variant with 50Kw battery to cover up the range anxiety', ' ARAI claim 312km per full charge, after a lot of research I found real-world range is 193km, a good driver will get 240km max', ' Affordable range nearly 220-240 in reality']\n",
            "battery\n",
            "[' Tata should lower the Nexon price and increase market share Tata Punch EV - 5-8 Lakhs Tata Nexon EV 300 km range - 8-10 Lakhs Tata Nexon EV 400 km range - 10-15 Lakhs Because, the affordability in lower range and availability in mid-range is important optional swappable range extender batteries would become a super hit like partnering with swappable battery stations', 'Need to increase mileage, battery capacity so range also increases, other features are good', ' It gives me a range of 200-220 km on full AC', ' If i use it in city and highways I get a range of 170-180 km if used strictly in city and small lanes with average speed not going above 30kms', ' Approximate range according to my driving with AC ,music system etc always switched on', \" It can't be only car to own due to under developing charging infrastructure and insufficient range\", 'The best electronic car in India in this price range obsolete use of money Tata nexon is my favourite car because I love electronic cars ', 'Beautiful looks both interior and exterior, all are comfortable as like a medium range car', 'This car is the most value for money and not further any servicing charge pay on due to this car no effect on an environment This car range is very good which is 312km / charge This is the best car in the segment of tata motors Thank you', \"5-litre diesel engine with a top-class interior and comfortable on long route smooth and very tough body of tata as it's one of the best model tata has made I am not a person who just praise like that but it's an ultimate car muv in this range and I have\", ' The range are also so comfortable', ' There is only two primary deterrents, I see, the range and available charging stations', ' I expect at least a range of 400 km or charging stations at least at each of the toll plazas', ' Price range and mileage is best in this class', ' Its range is also good', \" The range is very limited, can't operate AC to ensure reaching home without being stuck in the middle\", ' You can get a range of 180 to 190 with AC, without AC you Can Get a Range of 200 to 220', ' does not give the range as the company says', ' The company says the range is 250 km per charge but only goes 160 km per charge', ' A realistic range of 210-240kms and depending on your driving style, you can get more', 'After reading all such reviews I would like to have this Electric miracle in 2027-28 when It would be more affordable to me in the range of 7-8 Lacs', 'Charging stations are less available and running range also not sufficient', 'Tata Nexon EV is one of the best affordable long-range electric vehicle available in India', 'I am highly disappointed by this car due to the range and behavior of the dealer', ' I am driving this car daily for the last four months and very much upset by the real-world range', ' Company claims a range of 300 but the real-world range is 140 km per charge with AC, and 150 km without AC', ' But for my friends, i have daily commute of 70-80 KM and in the city, I am getting 220-230 range with a single charge', ' Getting a range of 210km for 100%', ' Normally I recharge it when it comes to 25% for which I used to get a range of 165 to 170kms (for 75%)', 'Tata Nexon EV is an innovative car, 5 stars crash rating safest, connected, 3 variants, the perfect car for sustainable mobility, good range, low maintenance, globally first A Benchmark', ' The response time is excellent range per full charge is around 200km within the city', ' The 30 KW battery is sufficient for city drive but there should have been a higher variant with 50Kw battery to cover up the range anxiety', ' ARAI claim 312km per full charge, after a lot of research I found real-world range is 193km, a good driver will get 240km max', ' Affordable range nearly 220-240 in reality', ' Tata should lower the Nexon price and increase market share Tata Punch EV - 5-8 Lakhs Tata Nexon EV 300 km range - 8-10 Lakhs Tata Nexon EV 400 km range - 10-15 Lakhs Because, the affordability in lower range and availability in mid-range is important optional swappable range extender batteries would become a super hit like partnering with swappable battery stations', ' Breaking and recharging battery while breaking is ultimate', 'This nice car this future ka electric best in electric nexon EV no Diesel fuel no petrol is maintenance is battery level 8 year warranty karej warranty 5 year interior best looking', 'Need to increase mileage, battery capacity so range also increases, other features are good', \" Finally 2 days back they replaced the battery pack, we thought our problems are over but no, this car won't let you sleep in peace\", ' Even with 95% battery, its system is detecting 0 battery power', \" Everything is good not good great at this price segment Cons : is only on thing small battery capacity but it worthy at this price so we can't expect more Finally it's value for money car\", \"Ride is very comfortable, interiors are very premium Will do a max of 160 km on a single charge as against company's claim of 312 km, very huge gap Buy only if you have charging points at both locations (home and office) Pickup in sport mode is amazing but consumes a lot of battery Overall an expensive vehicle\", ' Leading the charge is the Nexon ev with great power, high battery life and all features you would want in your car', ' It blends power, battery life, price, features and size superbly', ' No issues in city traffic driving as the regenerative braking adds power to the battery', 'charging a double price for placing battery and not reducing price for removing parts which are in non-electric Nexon', ' tata is charging money of non-electric Nexon + battery ', ' 8 years of battery warranty and awesome performance make it perfect', ' I found 3 times there is a sudden drop in battery percentage from 60% to 20% 1st time and 2nd time the battery percentage dropped from 50% to 22%', 'Nice mileage, better battery, performance, nice look, stylish body', 'EV vehicle is good, but battery suddenly dropping, this is very dangers and uncomfortable thing', ' Yesterday Nexon EV vehicle backdowns at remaining battery 30%', ' If the battery charging itself shows 173 km means how it can for 312', 'The battery does not charge fully', ' After car service, the battery issue was not resolved at all', 'This is the only Electric Vehicle available with reliable latest battery aided technology coupled with safety - both features and builds quality', \"Don't buy this car, just after a day of purchase battery percentage by 30-40%\", ' even with 95% battery, its system is detecting 0 battery and the car is locked with limp mode', ' You can get stranded anytime, anywhere even with a full battery', \"I really love this Tata Nexon EV, its really very nice and comfortable car and it's a battery car so overall, I love it\", 'Nexon EV price should be under 10L for top-end variant - Adding extra rage extender battery would be better as a standard feature for all EV vehicles - Battery Swapping technology is a must for EVs for better demand - Govt should announce 100% tax exemption for the purchase of any EVs until 2030 - Mileage limits should be announced by Govt under 1l', ' The 30 KW battery is sufficient for city drive but there should have been a higher variant with 50Kw battery to cover up the range anxiety', ' I think that the battery has some risk for some mishaps', ' Like a single leakage in battery or any accident can turn into blast hope they have taken care of i', ' So many companies are launching and trying to launch electric version with similar features and even more as Tata Motors does but still, they are lagging behind Tata Motors in price, features, timing of introduction, when it is much needed, battery strength that to at such primitive stage and']\n",
            "power\n",
            "[' Tata should lower the Nexon price and increase market share Tata Punch EV - 5-8 Lakhs Tata Nexon EV 300 km range - 8-10 Lakhs Tata Nexon EV 400 km range - 10-15 Lakhs Because, the affordability in lower range and availability in mid-range is important optional swappable range extender batteries would become a super hit like partnering with swappable battery stations', 'Need to increase mileage, battery capacity so range also increases, other features are good', ' It gives me a range of 200-220 km on full AC', ' If i use it in city and highways I get a range of 170-180 km if used strictly in city and small lanes with average speed not going above 30kms', ' Approximate range according to my driving with AC ,music system etc always switched on', \" It can't be only car to own due to under developing charging infrastructure and insufficient range\", 'The best electronic car in India in this price range obsolete use of money Tata nexon is my favourite car because I love electronic cars ', 'Beautiful looks both interior and exterior, all are comfortable as like a medium range car', 'This car is the most value for money and not further any servicing charge pay on due to this car no effect on an environment This car range is very good which is 312km / charge This is the best car in the segment of tata motors Thank you', \"5-litre diesel engine with a top-class interior and comfortable on long route smooth and very tough body of tata as it's one of the best model tata has made I am not a person who just praise like that but it's an ultimate car muv in this range and I have\", ' The range are also so comfortable', ' There is only two primary deterrents, I see, the range and available charging stations', ' I expect at least a range of 400 km or charging stations at least at each of the toll plazas', ' Price range and mileage is best in this class', ' Its range is also good', \" The range is very limited, can't operate AC to ensure reaching home without being stuck in the middle\", ' You can get a range of 180 to 190 with AC, without AC you Can Get a Range of 200 to 220', ' does not give the range as the company says', ' The company says the range is 250 km per charge but only goes 160 km per charge', ' A realistic range of 210-240kms and depending on your driving style, you can get more', 'After reading all such reviews I would like to have this Electric miracle in 2027-28 when It would be more affordable to me in the range of 7-8 Lacs', 'Charging stations are less available and running range also not sufficient', 'Tata Nexon EV is one of the best affordable long-range electric vehicle available in India', 'I am highly disappointed by this car due to the range and behavior of the dealer', ' I am driving this car daily for the last four months and very much upset by the real-world range', ' Company claims a range of 300 but the real-world range is 140 km per charge with AC, and 150 km without AC', ' But for my friends, i have daily commute of 70-80 KM and in the city, I am getting 220-230 range with a single charge', ' Getting a range of 210km for 100%', ' Normally I recharge it when it comes to 25% for which I used to get a range of 165 to 170kms (for 75%)', 'Tata Nexon EV is an innovative car, 5 stars crash rating safest, connected, 3 variants, the perfect car for sustainable mobility, good range, low maintenance, globally first A Benchmark', ' The response time is excellent range per full charge is around 200km within the city', ' The 30 KW battery is sufficient for city drive but there should have been a higher variant with 50Kw battery to cover up the range anxiety', ' ARAI claim 312km per full charge, after a lot of research I found real-world range is 193km, a good driver will get 240km max', ' Affordable range nearly 220-240 in reality', ' Tata should lower the Nexon price and increase market share Tata Punch EV - 5-8 Lakhs Tata Nexon EV 300 km range - 8-10 Lakhs Tata Nexon EV 400 km range - 10-15 Lakhs Because, the affordability in lower range and availability in mid-range is important optional swappable range extender batteries would become a super hit like partnering with swappable battery stations', ' Breaking and recharging battery while breaking is ultimate', 'This nice car this future ka electric best in electric nexon EV no Diesel fuel no petrol is maintenance is battery level 8 year warranty karej warranty 5 year interior best looking', 'Need to increase mileage, battery capacity so range also increases, other features are good', \" Finally 2 days back they replaced the battery pack, we thought our problems are over but no, this car won't let you sleep in peace\", ' Even with 95% battery, its system is detecting 0 battery power', \" Everything is good not good great at this price segment Cons : is only on thing small battery capacity but it worthy at this price so we can't expect more Finally it's value for money car\", \"Ride is very comfortable, interiors are very premium Will do a max of 160 km on a single charge as against company's claim of 312 km, very huge gap Buy only if you have charging points at both locations (home and office) Pickup in sport mode is amazing but consumes a lot of battery Overall an expensive vehicle\", ' Leading the charge is the Nexon ev with great power, high battery life and all features you would want in your car', ' It blends power, battery life, price, features and size superbly', ' No issues in city traffic driving as the regenerative braking adds power to the battery', 'charging a double price for placing battery and not reducing price for removing parts which are in non-electric Nexon', ' tata is charging money of non-electric Nexon + battery ', ' 8 years of battery warranty and awesome performance make it perfect', ' I found 3 times there is a sudden drop in battery percentage from 60% to 20% 1st time and 2nd time the battery percentage dropped from 50% to 22%', 'Nice mileage, better battery, performance, nice look, stylish body', 'EV vehicle is good, but battery suddenly dropping, this is very dangers and uncomfortable thing', ' Yesterday Nexon EV vehicle backdowns at remaining battery 30%', ' If the battery charging itself shows 173 km means how it can for 312', 'The battery does not charge fully', ' After car service, the battery issue was not resolved at all', 'This is the only Electric Vehicle available with reliable latest battery aided technology coupled with safety - both features and builds quality', \"Don't buy this car, just after a day of purchase battery percentage by 30-40%\", ' even with 95% battery, its system is detecting 0 battery and the car is locked with limp mode', ' You can get stranded anytime, anywhere even with a full battery', \"I really love this Tata Nexon EV, its really very nice and comfortable car and it's a battery car so overall, I love it\", 'Nexon EV price should be under 10L for top-end variant - Adding extra rage extender battery would be better as a standard feature for all EV vehicles - Battery Swapping technology is a must for EVs for better demand - Govt should announce 100% tax exemption for the purchase of any EVs until 2030 - Mileage limits should be announced by Govt under 1l', ' The 30 KW battery is sufficient for city drive but there should have been a higher variant with 50Kw battery to cover up the range anxiety', ' I think that the battery has some risk for some mishaps', ' Like a single leakage in battery or any accident can turn into blast hope they have taken care of i', ' So many companies are launching and trying to launch electric version with similar features and even more as Tata Motors does but still, they are lagging behind Tata Motors in price, features, timing of introduction, when it is much needed, battery strength that to at such primitive stage and', ' Even with 95% battery, its system is detecting 0 battery power', 'Recently purchased this car, driver comfort, providing powerful engine give freshness, leg space is awesome, boot space good, unique design Company should thing about the mileage that will better', ' Leading the charge is the Nexon ev with great power, high battery life and all features you would want in your car', ' It blends power, battery life, price, features and size superbly', ' No issues in city traffic driving as the regenerative braking adds power to the battery', 'Tata Nexon ev car has amazing features,and this is affordable luxury car in india,anyone can drive this car,this car is best and safest for offroading and family touring & traveling,this car has airbag and best braking system ,this car is more powerful and smart car in future for anyone ', \"Superd car each and everything so good, it's have powerful engine, design is too good, i have vary Good experience with driving this car, I love this car, it's tata best and best car, no one car have compared with this car\", ' Tata Nexon is one of the most powerful 35kw batteries', ' Second is tremendous power and smooth acceleration of the electric motor felt at the word go', ' The car suddenly switched to neutral while on the move and the steering and brakes, which are power-assisted, stopped to work', 'Nice car, I would rather say very silent, very powerful', ' Tata has done a nice job, to promote electric vehicles, without compromising power output', \" With this much torque and power in the electric version, it's going to catch eyes of the buyers and also environment-friendly\"]\n",
            "performance\n",
            "[' Tata should lower the Nexon price and increase market share Tata Punch EV - 5-8 Lakhs Tata Nexon EV 300 km range - 8-10 Lakhs Tata Nexon EV 400 km range - 10-15 Lakhs Because, the affordability in lower range and availability in mid-range is important optional swappable range extender batteries would become a super hit like partnering with swappable battery stations', 'Need to increase mileage, battery capacity so range also increases, other features are good', ' It gives me a range of 200-220 km on full AC', ' If i use it in city and highways I get a range of 170-180 km if used strictly in city and small lanes with average speed not going above 30kms', ' Approximate range according to my driving with AC ,music system etc always switched on', \" It can't be only car to own due to under developing charging infrastructure and insufficient range\", 'The best electronic car in India in this price range obsolete use of money Tata nexon is my favourite car because I love electronic cars ', 'Beautiful looks both interior and exterior, all are comfortable as like a medium range car', 'This car is the most value for money and not further any servicing charge pay on due to this car no effect on an environment This car range is very good which is 312km / charge This is the best car in the segment of tata motors Thank you', \"5-litre diesel engine with a top-class interior and comfortable on long route smooth and very tough body of tata as it's one of the best model tata has made I am not a person who just praise like that but it's an ultimate car muv in this range and I have\", ' The range are also so comfortable', ' There is only two primary deterrents, I see, the range and available charging stations', ' I expect at least a range of 400 km or charging stations at least at each of the toll plazas', ' Price range and mileage is best in this class', ' Its range is also good', \" The range is very limited, can't operate AC to ensure reaching home without being stuck in the middle\", ' You can get a range of 180 to 190 with AC, without AC you Can Get a Range of 200 to 220', ' does not give the range as the company says', ' The company says the range is 250 km per charge but only goes 160 km per charge', ' A realistic range of 210-240kms and depending on your driving style, you can get more', 'After reading all such reviews I would like to have this Electric miracle in 2027-28 when It would be more affordable to me in the range of 7-8 Lacs', 'Charging stations are less available and running range also not sufficient', 'Tata Nexon EV is one of the best affordable long-range electric vehicle available in India', 'I am highly disappointed by this car due to the range and behavior of the dealer', ' I am driving this car daily for the last four months and very much upset by the real-world range', ' Company claims a range of 300 but the real-world range is 140 km per charge with AC, and 150 km without AC', ' But for my friends, i have daily commute of 70-80 KM and in the city, I am getting 220-230 range with a single charge', ' Getting a range of 210km for 100%', ' Normally I recharge it when it comes to 25% for which I used to get a range of 165 to 170kms (for 75%)', 'Tata Nexon EV is an innovative car, 5 stars crash rating safest, connected, 3 variants, the perfect car for sustainable mobility, good range, low maintenance, globally first A Benchmark', ' The response time is excellent range per full charge is around 200km within the city', ' The 30 KW battery is sufficient for city drive but there should have been a higher variant with 50Kw battery to cover up the range anxiety', ' ARAI claim 312km per full charge, after a lot of research I found real-world range is 193km, a good driver will get 240km max', ' Affordable range nearly 220-240 in reality', ' Tata should lower the Nexon price and increase market share Tata Punch EV - 5-8 Lakhs Tata Nexon EV 300 km range - 8-10 Lakhs Tata Nexon EV 400 km range - 10-15 Lakhs Because, the affordability in lower range and availability in mid-range is important optional swappable range extender batteries would become a super hit like partnering with swappable battery stations', ' Breaking and recharging battery while breaking is ultimate', 'This nice car this future ka electric best in electric nexon EV no Diesel fuel no petrol is maintenance is battery level 8 year warranty karej warranty 5 year interior best looking', 'Need to increase mileage, battery capacity so range also increases, other features are good', \" Finally 2 days back they replaced the battery pack, we thought our problems are over but no, this car won't let you sleep in peace\", ' Even with 95% battery, its system is detecting 0 battery power', \" Everything is good not good great at this price segment Cons : is only on thing small battery capacity but it worthy at this price so we can't expect more Finally it's value for money car\", \"Ride is very comfortable, interiors are very premium Will do a max of 160 km on a single charge as against company's claim of 312 km, very huge gap Buy only if you have charging points at both locations (home and office) Pickup in sport mode is amazing but consumes a lot of battery Overall an expensive vehicle\", ' Leading the charge is the Nexon ev with great power, high battery life and all features you would want in your car', ' It blends power, battery life, price, features and size superbly', ' No issues in city traffic driving as the regenerative braking adds power to the battery', 'charging a double price for placing battery and not reducing price for removing parts which are in non-electric Nexon', ' tata is charging money of non-electric Nexon + battery ', ' 8 years of battery warranty and awesome performance make it perfect', ' I found 3 times there is a sudden drop in battery percentage from 60% to 20% 1st time and 2nd time the battery percentage dropped from 50% to 22%', 'Nice mileage, better battery, performance, nice look, stylish body', 'EV vehicle is good, but battery suddenly dropping, this is very dangers and uncomfortable thing', ' Yesterday Nexon EV vehicle backdowns at remaining battery 30%', ' If the battery charging itself shows 173 km means how it can for 312', 'The battery does not charge fully', ' After car service, the battery issue was not resolved at all', 'This is the only Electric Vehicle available with reliable latest battery aided technology coupled with safety - both features and builds quality', \"Don't buy this car, just after a day of purchase battery percentage by 30-40%\", ' even with 95% battery, its system is detecting 0 battery and the car is locked with limp mode', ' You can get stranded anytime, anywhere even with a full battery', \"I really love this Tata Nexon EV, its really very nice and comfortable car and it's a battery car so overall, I love it\", 'Nexon EV price should be under 10L for top-end variant - Adding extra rage extender battery would be better as a standard feature for all EV vehicles - Battery Swapping technology is a must for EVs for better demand - Govt should announce 100% tax exemption for the purchase of any EVs until 2030 - Mileage limits should be announced by Govt under 1l', ' The 30 KW battery is sufficient for city drive but there should have been a higher variant with 50Kw battery to cover up the range anxiety', ' I think that the battery has some risk for some mishaps', ' Like a single leakage in battery or any accident can turn into blast hope they have taken care of i', ' So many companies are launching and trying to launch electric version with similar features and even more as Tata Motors does but still, they are lagging behind Tata Motors in price, features, timing of introduction, when it is much needed, battery strength that to at such primitive stage and', ' Even with 95% battery, its system is detecting 0 battery power', 'Recently purchased this car, driver comfort, providing powerful engine give freshness, leg space is awesome, boot space good, unique design Company should thing about the mileage that will better', ' Leading the charge is the Nexon ev with great power, high battery life and all features you would want in your car', ' It blends power, battery life, price, features and size superbly', ' No issues in city traffic driving as the regenerative braking adds power to the battery', 'Tata Nexon ev car has amazing features,and this is affordable luxury car in india,anyone can drive this car,this car is best and safest for offroading and family touring & traveling,this car has airbag and best braking system ,this car is more powerful and smart car in future for anyone ', \"Superd car each and everything so good, it's have powerful engine, design is too good, i have vary Good experience with driving this car, I love this car, it's tata best and best car, no one car have compared with this car\", ' Tata Nexon is one of the most powerful 35kw batteries', ' Second is tremendous power and smooth acceleration of the electric motor felt at the word go', ' The car suddenly switched to neutral while on the move and the steering and brakes, which are power-assisted, stopped to work', 'Nice car, I would rather say very silent, very powerful', ' Tata has done a nice job, to promote electric vehicles, without compromising power output', \" With this much torque and power in the electric version, it's going to catch eyes of the buyers and also environment-friendly\", ' Amazing performance', 'Nice performance and looks', 'Best car i would say, Best in safety, performance', 'Very nice performance this car very good spece and best to long drive also and the engine is very good and better to easily drive and very good milege i am so Happy to drive this car', 'Nice and very comfortable car interior comfort is relaxing and outer exterior is aggressive design are very cool and performance of engine is to good eco-friendly car in budget segment good to buy ', 'Awesome experience through out the journey with Tata ev, exspecially the performance almost used 500 kms, getting better efficiency and most importantly safety features', ' 8 years of battery warranty and awesome performance make it perfect', 'Very nice car it is amazing at this price you get screen very nice you purchase it is nice car performance is nice mileage is low and price but nice car', ' Nimble clutch and solid driving performance on high speed you will fell more confidence', ' Tata has done a really good job with the Nexon EV and the very punchy performance', 'This car is good by driving performance but the price is too high', ' Believe me or not this is the revolution in the Indian Electric car segment, both in terms of comfort as well as performance', 'Nice performance, full comfort in the car', ' Nexon and Tiger EV is the only affordable car for all buyers which gives ample amount of less maintenance as well as performance', ' It has great performance and delivers smooth driving', 'Nice mileage, better battery, performance, nice look, stylish body', \" Brilliant performance, especially in 'S' mode\", 'Amazing pickup, great performance, and also mileage and rang appropriately 240 km which is great', ' Very Happy with performance If only the dealership and service centre lives up to the car quality', 'Very nice car it looks very awesome and its performance is wonderful', ' The efficiency and performance of these are good', 'I got this car last week and I am amazed at its performance', ' It is an affordable car with nice performance', 'Everything about this car is very appealing, the looks performance and ergonomics', 'Tata is the best company in the world Tata Nexon EV is an electric vehicle I like the feature and all over the performance of the car']\n",
            "comfort\n",
            "[' Tata should lower the Nexon price and increase market share Tata Punch EV - 5-8 Lakhs Tata Nexon EV 300 km range - 8-10 Lakhs Tata Nexon EV 400 km range - 10-15 Lakhs Because, the affordability in lower range and availability in mid-range is important optional swappable range extender batteries would become a super hit like partnering with swappable battery stations', 'Need to increase mileage, battery capacity so range also increases, other features are good', ' It gives me a range of 200-220 km on full AC', ' If i use it in city and highways I get a range of 170-180 km if used strictly in city and small lanes with average speed not going above 30kms', ' Approximate range according to my driving with AC ,music system etc always switched on', \" It can't be only car to own due to under developing charging infrastructure and insufficient range\", 'The best electronic car in India in this price range obsolete use of money Tata nexon is my favourite car because I love electronic cars ', 'Beautiful looks both interior and exterior, all are comfortable as like a medium range car', 'This car is the most value for money and not further any servicing charge pay on due to this car no effect on an environment This car range is very good which is 312km / charge This is the best car in the segment of tata motors Thank you', \"5-litre diesel engine with a top-class interior and comfortable on long route smooth and very tough body of tata as it's one of the best model tata has made I am not a person who just praise like that but it's an ultimate car muv in this range and I have\", ' The range are also so comfortable', ' There is only two primary deterrents, I see, the range and available charging stations', ' I expect at least a range of 400 km or charging stations at least at each of the toll plazas', ' Price range and mileage is best in this class', ' Its range is also good', \" The range is very limited, can't operate AC to ensure reaching home without being stuck in the middle\", ' You can get a range of 180 to 190 with AC, without AC you Can Get a Range of 200 to 220', ' does not give the range as the company says', ' The company says the range is 250 km per charge but only goes 160 km per charge', ' A realistic range of 210-240kms and depending on your driving style, you can get more', 'After reading all such reviews I would like to have this Electric miracle in 2027-28 when It would be more affordable to me in the range of 7-8 Lacs', 'Charging stations are less available and running range also not sufficient', 'Tata Nexon EV is one of the best affordable long-range electric vehicle available in India', 'I am highly disappointed by this car due to the range and behavior of the dealer', ' I am driving this car daily for the last four months and very much upset by the real-world range', ' Company claims a range of 300 but the real-world range is 140 km per charge with AC, and 150 km without AC', ' But for my friends, i have daily commute of 70-80 KM and in the city, I am getting 220-230 range with a single charge', ' Getting a range of 210km for 100%', ' Normally I recharge it when it comes to 25% for which I used to get a range of 165 to 170kms (for 75%)', 'Tata Nexon EV is an innovative car, 5 stars crash rating safest, connected, 3 variants, the perfect car for sustainable mobility, good range, low maintenance, globally first A Benchmark', ' The response time is excellent range per full charge is around 200km within the city', ' The 30 KW battery is sufficient for city drive but there should have been a higher variant with 50Kw battery to cover up the range anxiety', ' ARAI claim 312km per full charge, after a lot of research I found real-world range is 193km, a good driver will get 240km max', ' Affordable range nearly 220-240 in reality', ' Tata should lower the Nexon price and increase market share Tata Punch EV - 5-8 Lakhs Tata Nexon EV 300 km range - 8-10 Lakhs Tata Nexon EV 400 km range - 10-15 Lakhs Because, the affordability in lower range and availability in mid-range is important optional swappable range extender batteries would become a super hit like partnering with swappable battery stations', ' Breaking and recharging battery while breaking is ultimate', 'This nice car this future ka electric best in electric nexon EV no Diesel fuel no petrol is maintenance is battery level 8 year warranty karej warranty 5 year interior best looking', 'Need to increase mileage, battery capacity so range also increases, other features are good', \" Finally 2 days back they replaced the battery pack, we thought our problems are over but no, this car won't let you sleep in peace\", ' Even with 95% battery, its system is detecting 0 battery power', \" Everything is good not good great at this price segment Cons : is only on thing small battery capacity but it worthy at this price so we can't expect more Finally it's value for money car\", \"Ride is very comfortable, interiors are very premium Will do a max of 160 km on a single charge as against company's claim of 312 km, very huge gap Buy only if you have charging points at both locations (home and office) Pickup in sport mode is amazing but consumes a lot of battery Overall an expensive vehicle\", ' Leading the charge is the Nexon ev with great power, high battery life and all features you would want in your car', ' It blends power, battery life, price, features and size superbly', ' No issues in city traffic driving as the regenerative braking adds power to the battery', 'charging a double price for placing battery and not reducing price for removing parts which are in non-electric Nexon', ' tata is charging money of non-electric Nexon + battery ', ' 8 years of battery warranty and awesome performance make it perfect', ' I found 3 times there is a sudden drop in battery percentage from 60% to 20% 1st time and 2nd time the battery percentage dropped from 50% to 22%', 'Nice mileage, better battery, performance, nice look, stylish body', 'EV vehicle is good, but battery suddenly dropping, this is very dangers and uncomfortable thing', ' Yesterday Nexon EV vehicle backdowns at remaining battery 30%', ' If the battery charging itself shows 173 km means how it can for 312', 'The battery does not charge fully', ' After car service, the battery issue was not resolved at all', 'This is the only Electric Vehicle available with reliable latest battery aided technology coupled with safety - both features and builds quality', \"Don't buy this car, just after a day of purchase battery percentage by 30-40%\", ' even with 95% battery, its system is detecting 0 battery and the car is locked with limp mode', ' You can get stranded anytime, anywhere even with a full battery', \"I really love this Tata Nexon EV, its really very nice and comfortable car and it's a battery car so overall, I love it\", 'Nexon EV price should be under 10L for top-end variant - Adding extra rage extender battery would be better as a standard feature for all EV vehicles - Battery Swapping technology is a must for EVs for better demand - Govt should announce 100% tax exemption for the purchase of any EVs until 2030 - Mileage limits should be announced by Govt under 1l', ' The 30 KW battery is sufficient for city drive but there should have been a higher variant with 50Kw battery to cover up the range anxiety', ' I think that the battery has some risk for some mishaps', ' Like a single leakage in battery or any accident can turn into blast hope they have taken care of i', ' So many companies are launching and trying to launch electric version with similar features and even more as Tata Motors does but still, they are lagging behind Tata Motors in price, features, timing of introduction, when it is much needed, battery strength that to at such primitive stage and', ' Even with 95% battery, its system is detecting 0 battery power', 'Recently purchased this car, driver comfort, providing powerful engine give freshness, leg space is awesome, boot space good, unique design Company should thing about the mileage that will better', ' Leading the charge is the Nexon ev with great power, high battery life and all features you would want in your car', ' It blends power, battery life, price, features and size superbly', ' No issues in city traffic driving as the regenerative braking adds power to the battery', 'Tata Nexon ev car has amazing features,and this is affordable luxury car in india,anyone can drive this car,this car is best and safest for offroading and family touring & traveling,this car has airbag and best braking system ,this car is more powerful and smart car in future for anyone ', \"Superd car each and everything so good, it's have powerful engine, design is too good, i have vary Good experience with driving this car, I love this car, it's tata best and best car, no one car have compared with this car\", ' Tata Nexon is one of the most powerful 35kw batteries', ' Second is tremendous power and smooth acceleration of the electric motor felt at the word go', ' The car suddenly switched to neutral while on the move and the steering and brakes, which are power-assisted, stopped to work', 'Nice car, I would rather say very silent, very powerful', ' Tata has done a nice job, to promote electric vehicles, without compromising power output', \" With this much torque and power in the electric version, it's going to catch eyes of the buyers and also environment-friendly\", ' Amazing performance', 'Nice performance and looks', 'Best car i would say, Best in safety, performance', 'Very nice performance this car very good spece and best to long drive also and the engine is very good and better to easily drive and very good milege i am so Happy to drive this car', 'Nice and very comfortable car interior comfort is relaxing and outer exterior is aggressive design are very cool and performance of engine is to good eco-friendly car in budget segment good to buy ', 'Awesome experience through out the journey with Tata ev, exspecially the performance almost used 500 kms, getting better efficiency and most importantly safety features', ' 8 years of battery warranty and awesome performance make it perfect', 'Very nice car it is amazing at this price you get screen very nice you purchase it is nice car performance is nice mileage is low and price but nice car', ' Nimble clutch and solid driving performance on high speed you will fell more confidence', ' Tata has done a really good job with the Nexon EV and the very punchy performance', 'This car is good by driving performance but the price is too high', ' Believe me or not this is the revolution in the Indian Electric car segment, both in terms of comfort as well as performance', 'Nice performance, full comfort in the car', ' Nexon and Tiger EV is the only affordable car for all buyers which gives ample amount of less maintenance as well as performance', ' It has great performance and delivers smooth driving', 'Nice mileage, better battery, performance, nice look, stylish body', \" Brilliant performance, especially in 'S' mode\", 'Amazing pickup, great performance, and also mileage and rang appropriately 240 km which is great', ' Very Happy with performance If only the dealership and service centre lives up to the car quality', 'Very nice car it looks very awesome and its performance is wonderful', ' The efficiency and performance of these are good', 'I got this car last week and I am amazed at its performance', ' It is an affordable car with nice performance', 'Everything about this car is very appealing, the looks performance and ergonomics', 'Tata is the best company in the world Tata Nexon EV is an electric vehicle I like the feature and all over the performance of the car', 'More spacious car and every one will be comfortable', 'Good car with good safety and comfort with all options', 'Love this car, very comfortable and pocket friendly', ' Legroom space is very spacious and comfortable seating', ' Interior quality is up to the mark and seats are extremely comfortable', 'Recently purchased this car, driver comfort, providing powerful engine give freshness, leg space is awesome, boot space good, unique design Company should thing about the mileage that will better', \"Ride is very comfortable, interiors are very premium Will do a max of 160 km on a single charge as against company's claim of 312 km, very huge gap Buy only if you have charging points at both locations (home and office) Pickup in sport mode is amazing but consumes a lot of battery Overall an expensive vehicle\", 'Very nice and comfortable driving', ' And driving comfortable also there', 'comfort, well breaking ,comfort setting also driving', 'Beautiful looks both interior and exterior, all are comfortable as like a medium range car', 'Nice and very comfortable car interior comfort is relaxing and outer exterior is aggressive design are very cool and performance of engine is to good eco-friendly car in budget segment good to buy ', ' It has all latest features of high quality products like inner and extremely comfortable', \"5-litre diesel engine with a top-class interior and comfortable on long route smooth and very tough body of tata as it's one of the best model tata has made I am not a person who just praise like that but it's an ultimate car muv in this range and I have\", ' Interior comfort and external design is awesome', ' The range are also so comfortable', ' Believe me or not this is the revolution in the Indian Electric car segment, both in terms of comfort as well as performance', 'Nice performance, full comfort in the car', ' the car is very spacious and comfortable for sitting', 'EV vehicle is good, but battery suddenly dropping, this is very dangers and uncomfortable thing', \"I really love this Tata Nexon EV, its really very nice and comfortable car and it's a battery car so overall, I love it\", 'Hindustan ki full safety car, best mileage, full comfortable SUV is smooth for long root drive, music system is best', ' Nexon comfort and Value for money ', \"I like this car's safety and comfort and the design is impressive and I prefer all the people to buy this car because at this price\"]\n",
            "space\n",
            "[' Tata should lower the Nexon price and increase market share Tata Punch EV - 5-8 Lakhs Tata Nexon EV 300 km range - 8-10 Lakhs Tata Nexon EV 400 km range - 10-15 Lakhs Because, the affordability in lower range and availability in mid-range is important optional swappable range extender batteries would become a super hit like partnering with swappable battery stations', 'Need to increase mileage, battery capacity so range also increases, other features are good', ' It gives me a range of 200-220 km on full AC', ' If i use it in city and highways I get a range of 170-180 km if used strictly in city and small lanes with average speed not going above 30kms', ' Approximate range according to my driving with AC ,music system etc always switched on', \" It can't be only car to own due to under developing charging infrastructure and insufficient range\", 'The best electronic car in India in this price range obsolete use of money Tata nexon is my favourite car because I love electronic cars ', 'Beautiful looks both interior and exterior, all are comfortable as like a medium range car', 'This car is the most value for money and not further any servicing charge pay on due to this car no effect on an environment This car range is very good which is 312km / charge This is the best car in the segment of tata motors Thank you', \"5-litre diesel engine with a top-class interior and comfortable on long route smooth and very tough body of tata as it's one of the best model tata has made I am not a person who just praise like that but it's an ultimate car muv in this range and I have\", ' The range are also so comfortable', ' There is only two primary deterrents, I see, the range and available charging stations', ' I expect at least a range of 400 km or charging stations at least at each of the toll plazas', ' Price range and mileage is best in this class', ' Its range is also good', \" The range is very limited, can't operate AC to ensure reaching home without being stuck in the middle\", ' You can get a range of 180 to 190 with AC, without AC you Can Get a Range of 200 to 220', ' does not give the range as the company says', ' The company says the range is 250 km per charge but only goes 160 km per charge', ' A realistic range of 210-240kms and depending on your driving style, you can get more', 'After reading all such reviews I would like to have this Electric miracle in 2027-28 when It would be more affordable to me in the range of 7-8 Lacs', 'Charging stations are less available and running range also not sufficient', 'Tata Nexon EV is one of the best affordable long-range electric vehicle available in India', 'I am highly disappointed by this car due to the range and behavior of the dealer', ' I am driving this car daily for the last four months and very much upset by the real-world range', ' Company claims a range of 300 but the real-world range is 140 km per charge with AC, and 150 km without AC', ' But for my friends, i have daily commute of 70-80 KM and in the city, I am getting 220-230 range with a single charge', ' Getting a range of 210km for 100%', ' Normally I recharge it when it comes to 25% for which I used to get a range of 165 to 170kms (for 75%)', 'Tata Nexon EV is an innovative car, 5 stars crash rating safest, connected, 3 variants, the perfect car for sustainable mobility, good range, low maintenance, globally first A Benchmark', ' The response time is excellent range per full charge is around 200km within the city', ' The 30 KW battery is sufficient for city drive but there should have been a higher variant with 50Kw battery to cover up the range anxiety', ' ARAI claim 312km per full charge, after a lot of research I found real-world range is 193km, a good driver will get 240km max', ' Affordable range nearly 220-240 in reality', ' Tata should lower the Nexon price and increase market share Tata Punch EV - 5-8 Lakhs Tata Nexon EV 300 km range - 8-10 Lakhs Tata Nexon EV 400 km range - 10-15 Lakhs Because, the affordability in lower range and availability in mid-range is important optional swappable range extender batteries would become a super hit like partnering with swappable battery stations', ' Breaking and recharging battery while breaking is ultimate', 'This nice car this future ka electric best in electric nexon EV no Diesel fuel no petrol is maintenance is battery level 8 year warranty karej warranty 5 year interior best looking', 'Need to increase mileage, battery capacity so range also increases, other features are good', \" Finally 2 days back they replaced the battery pack, we thought our problems are over but no, this car won't let you sleep in peace\", ' Even with 95% battery, its system is detecting 0 battery power', \" Everything is good not good great at this price segment Cons : is only on thing small battery capacity but it worthy at this price so we can't expect more Finally it's value for money car\", \"Ride is very comfortable, interiors are very premium Will do a max of 160 km on a single charge as against company's claim of 312 km, very huge gap Buy only if you have charging points at both locations (home and office) Pickup in sport mode is amazing but consumes a lot of battery Overall an expensive vehicle\", ' Leading the charge is the Nexon ev with great power, high battery life and all features you would want in your car', ' It blends power, battery life, price, features and size superbly', ' No issues in city traffic driving as the regenerative braking adds power to the battery', 'charging a double price for placing battery and not reducing price for removing parts which are in non-electric Nexon', ' tata is charging money of non-electric Nexon + battery ', ' 8 years of battery warranty and awesome performance make it perfect', ' I found 3 times there is a sudden drop in battery percentage from 60% to 20% 1st time and 2nd time the battery percentage dropped from 50% to 22%', 'Nice mileage, better battery, performance, nice look, stylish body', 'EV vehicle is good, but battery suddenly dropping, this is very dangers and uncomfortable thing', ' Yesterday Nexon EV vehicle backdowns at remaining battery 30%', ' If the battery charging itself shows 173 km means how it can for 312', 'The battery does not charge fully', ' After car service, the battery issue was not resolved at all', 'This is the only Electric Vehicle available with reliable latest battery aided technology coupled with safety - both features and builds quality', \"Don't buy this car, just after a day of purchase battery percentage by 30-40%\", ' even with 95% battery, its system is detecting 0 battery and the car is locked with limp mode', ' You can get stranded anytime, anywhere even with a full battery', \"I really love this Tata Nexon EV, its really very nice and comfortable car and it's a battery car so overall, I love it\", 'Nexon EV price should be under 10L for top-end variant - Adding extra rage extender battery would be better as a standard feature for all EV vehicles - Battery Swapping technology is a must for EVs for better demand - Govt should announce 100% tax exemption for the purchase of any EVs until 2030 - Mileage limits should be announced by Govt under 1l', ' The 30 KW battery is sufficient for city drive but there should have been a higher variant with 50Kw battery to cover up the range anxiety', ' I think that the battery has some risk for some mishaps', ' Like a single leakage in battery or any accident can turn into blast hope they have taken care of i', ' So many companies are launching and trying to launch electric version with similar features and even more as Tata Motors does but still, they are lagging behind Tata Motors in price, features, timing of introduction, when it is much needed, battery strength that to at such primitive stage and', ' Even with 95% battery, its system is detecting 0 battery power', 'Recently purchased this car, driver comfort, providing powerful engine give freshness, leg space is awesome, boot space good, unique design Company should thing about the mileage that will better', ' Leading the charge is the Nexon ev with great power, high battery life and all features you would want in your car', ' It blends power, battery life, price, features and size superbly', ' No issues in city traffic driving as the regenerative braking adds power to the battery', 'Tata Nexon ev car has amazing features,and this is affordable luxury car in india,anyone can drive this car,this car is best and safest for offroading and family touring & traveling,this car has airbag and best braking system ,this car is more powerful and smart car in future for anyone ', \"Superd car each and everything so good, it's have powerful engine, design is too good, i have vary Good experience with driving this car, I love this car, it's tata best and best car, no one car have compared with this car\", ' Tata Nexon is one of the most powerful 35kw batteries', ' Second is tremendous power and smooth acceleration of the electric motor felt at the word go', ' The car suddenly switched to neutral while on the move and the steering and brakes, which are power-assisted, stopped to work', 'Nice car, I would rather say very silent, very powerful', ' Tata has done a nice job, to promote electric vehicles, without compromising power output', \" With this much torque and power in the electric version, it's going to catch eyes of the buyers and also environment-friendly\", ' Amazing performance', 'Nice performance and looks', 'Best car i would say, Best in safety, performance', 'Very nice performance this car very good spece and best to long drive also and the engine is very good and better to easily drive and very good milege i am so Happy to drive this car', 'Nice and very comfortable car interior comfort is relaxing and outer exterior is aggressive design are very cool and performance of engine is to good eco-friendly car in budget segment good to buy ', 'Awesome experience through out the journey with Tata ev, exspecially the performance almost used 500 kms, getting better efficiency and most importantly safety features', ' 8 years of battery warranty and awesome performance make it perfect', 'Very nice car it is amazing at this price you get screen very nice you purchase it is nice car performance is nice mileage is low and price but nice car', ' Nimble clutch and solid driving performance on high speed you will fell more confidence', ' Tata has done a really good job with the Nexon EV and the very punchy performance', 'This car is good by driving performance but the price is too high', ' Believe me or not this is the revolution in the Indian Electric car segment, both in terms of comfort as well as performance', 'Nice performance, full comfort in the car', ' Nexon and Tiger EV is the only affordable car for all buyers which gives ample amount of less maintenance as well as performance', ' It has great performance and delivers smooth driving', 'Nice mileage, better battery, performance, nice look, stylish body', \" Brilliant performance, especially in 'S' mode\", 'Amazing pickup, great performance, and also mileage and rang appropriately 240 km which is great', ' Very Happy with performance If only the dealership and service centre lives up to the car quality', 'Very nice car it looks very awesome and its performance is wonderful', ' The efficiency and performance of these are good', 'I got this car last week and I am amazed at its performance', ' It is an affordable car with nice performance', 'Everything about this car is very appealing, the looks performance and ergonomics', 'Tata is the best company in the world Tata Nexon EV is an electric vehicle I like the feature and all over the performance of the car', 'More spacious car and every one will be comfortable', 'Good car with good safety and comfort with all options', 'Love this car, very comfortable and pocket friendly', ' Legroom space is very spacious and comfortable seating', ' Interior quality is up to the mark and seats are extremely comfortable', 'Recently purchased this car, driver comfort, providing powerful engine give freshness, leg space is awesome, boot space good, unique design Company should thing about the mileage that will better', \"Ride is very comfortable, interiors are very premium Will do a max of 160 km on a single charge as against company's claim of 312 km, very huge gap Buy only if you have charging points at both locations (home and office) Pickup in sport mode is amazing but consumes a lot of battery Overall an expensive vehicle\", 'Very nice and comfortable driving', ' And driving comfortable also there', 'comfort, well breaking ,comfort setting also driving', 'Beautiful looks both interior and exterior, all are comfortable as like a medium range car', 'Nice and very comfortable car interior comfort is relaxing and outer exterior is aggressive design are very cool and performance of engine is to good eco-friendly car in budget segment good to buy ', ' It has all latest features of high quality products like inner and extremely comfortable', \"5-litre diesel engine with a top-class interior and comfortable on long route smooth and very tough body of tata as it's one of the best model tata has made I am not a person who just praise like that but it's an ultimate car muv in this range and I have\", ' Interior comfort and external design is awesome', ' The range are also so comfortable', ' Believe me or not this is the revolution in the Indian Electric car segment, both in terms of comfort as well as performance', 'Nice performance, full comfort in the car', ' the car is very spacious and comfortable for sitting', 'EV vehicle is good, but battery suddenly dropping, this is very dangers and uncomfortable thing', \"I really love this Tata Nexon EV, its really very nice and comfortable car and it's a battery car so overall, I love it\", 'Hindustan ki full safety car, best mileage, full comfortable SUV is smooth for long root drive, music system is best', ' Nexon comfort and Value for money ', \"I like this car's safety and comfort and the design is impressive and I prefer all the people to buy this car because at this price\", ' Legroom space is very spacious and comfortable seating', ' 1 Indian manufacturers 2 eco friendly 3 pocket friendly not too big for parking space', 'Recently purchased this car, driver comfort, providing powerful engine give freshness, leg space is awesome, boot space good, unique design Company should thing about the mileage that will better', ' Built quality - Best Boot space - More than other competitors Power - more than other competitors Average - more than other competitors Service center - More than other competitors You can do charging at various accessible places', ' I like the space in the car to relax, and it makes no sound', ' Ample cabin space and gr']\n",
            "mileage\n",
            "[' Tata should lower the Nexon price and increase market share Tata Punch EV - 5-8 Lakhs Tata Nexon EV 300 km range - 8-10 Lakhs Tata Nexon EV 400 km range - 10-15 Lakhs Because, the affordability in lower range and availability in mid-range is important optional swappable range extender batteries would become a super hit like partnering with swappable battery stations', 'Need to increase mileage, battery capacity so range also increases, other features are good', ' It gives me a range of 200-220 km on full AC', ' If i use it in city and highways I get a range of 170-180 km if used strictly in city and small lanes with average speed not going above 30kms', ' Approximate range according to my driving with AC ,music system etc always switched on', \" It can't be only car to own due to under developing charging infrastructure and insufficient range\", 'The best electronic car in India in this price range obsolete use of money Tata nexon is my favourite car because I love electronic cars ', 'Beautiful looks both interior and exterior, all are comfortable as like a medium range car', 'This car is the most value for money and not further any servicing charge pay on due to this car no effect on an environment This car range is very good which is 312km / charge This is the best car in the segment of tata motors Thank you', \"5-litre diesel engine with a top-class interior and comfortable on long route smooth and very tough body of tata as it's one of the best model tata has made I am not a person who just praise like that but it's an ultimate car muv in this range and I have\", ' The range are also so comfortable', ' There is only two primary deterrents, I see, the range and available charging stations', ' I expect at least a range of 400 km or charging stations at least at each of the toll plazas', ' Price range and mileage is best in this class', ' Its range is also good', \" The range is very limited, can't operate AC to ensure reaching home without being stuck in the middle\", ' You can get a range of 180 to 190 with AC, without AC you Can Get a Range of 200 to 220', ' does not give the range as the company says', ' The company says the range is 250 km per charge but only goes 160 km per charge', ' A realistic range of 210-240kms and depending on your driving style, you can get more', 'After reading all such reviews I would like to have this Electric miracle in 2027-28 when It would be more affordable to me in the range of 7-8 Lacs', 'Charging stations are less available and running range also not sufficient', 'Tata Nexon EV is one of the best affordable long-range electric vehicle available in India', 'I am highly disappointed by this car due to the range and behavior of the dealer', ' I am driving this car daily for the last four months and very much upset by the real-world range', ' Company claims a range of 300 but the real-world range is 140 km per charge with AC, and 150 km without AC', ' But for my friends, i have daily commute of 70-80 KM and in the city, I am getting 220-230 range with a single charge', ' Getting a range of 210km for 100%', ' Normally I recharge it when it comes to 25% for which I used to get a range of 165 to 170kms (for 75%)', 'Tata Nexon EV is an innovative car, 5 stars crash rating safest, connected, 3 variants, the perfect car for sustainable mobility, good range, low maintenance, globally first A Benchmark', ' The response time is excellent range per full charge is around 200km within the city', ' The 30 KW battery is sufficient for city drive but there should have been a higher variant with 50Kw battery to cover up the range anxiety', ' ARAI claim 312km per full charge, after a lot of research I found real-world range is 193km, a good driver will get 240km max', ' Affordable range nearly 220-240 in reality', ' Tata should lower the Nexon price and increase market share Tata Punch EV - 5-8 Lakhs Tata Nexon EV 300 km range - 8-10 Lakhs Tata Nexon EV 400 km range - 10-15 Lakhs Because, the affordability in lower range and availability in mid-range is important optional swappable range extender batteries would become a super hit like partnering with swappable battery stations', ' Breaking and recharging battery while breaking is ultimate', 'This nice car this future ka electric best in electric nexon EV no Diesel fuel no petrol is maintenance is battery level 8 year warranty karej warranty 5 year interior best looking', 'Need to increase mileage, battery capacity so range also increases, other features are good', \" Finally 2 days back they replaced the battery pack, we thought our problems are over but no, this car won't let you sleep in peace\", ' Even with 95% battery, its system is detecting 0 battery power', \" Everything is good not good great at this price segment Cons : is only on thing small battery capacity but it worthy at this price so we can't expect more Finally it's value for money car\", \"Ride is very comfortable, interiors are very premium Will do a max of 160 km on a single charge as against company's claim of 312 km, very huge gap Buy only if you have charging points at both locations (home and office) Pickup in sport mode is amazing but consumes a lot of battery Overall an expensive vehicle\", ' Leading the charge is the Nexon ev with great power, high battery life and all features you would want in your car', ' It blends power, battery life, price, features and size superbly', ' No issues in city traffic driving as the regenerative braking adds power to the battery', 'charging a double price for placing battery and not reducing price for removing parts which are in non-electric Nexon', ' tata is charging money of non-electric Nexon + battery ', ' 8 years of battery warranty and awesome performance make it perfect', ' I found 3 times there is a sudden drop in battery percentage from 60% to 20% 1st time and 2nd time the battery percentage dropped from 50% to 22%', 'Nice mileage, better battery, performance, nice look, stylish body', 'EV vehicle is good, but battery suddenly dropping, this is very dangers and uncomfortable thing', ' Yesterday Nexon EV vehicle backdowns at remaining battery 30%', ' If the battery charging itself shows 173 km means how it can for 312', 'The battery does not charge fully', ' After car service, the battery issue was not resolved at all', 'This is the only Electric Vehicle available with reliable latest battery aided technology coupled with safety - both features and builds quality', \"Don't buy this car, just after a day of purchase battery percentage by 30-40%\", ' even with 95% battery, its system is detecting 0 battery and the car is locked with limp mode', ' You can get stranded anytime, anywhere even with a full battery', \"I really love this Tata Nexon EV, its really very nice and comfortable car and it's a battery car so overall, I love it\", 'Nexon EV price should be under 10L for top-end variant - Adding extra rage extender battery would be better as a standard feature for all EV vehicles - Battery Swapping technology is a must for EVs for better demand - Govt should announce 100% tax exemption for the purchase of any EVs until 2030 - Mileage limits should be announced by Govt under 1l', ' The 30 KW battery is sufficient for city drive but there should have been a higher variant with 50Kw battery to cover up the range anxiety', ' I think that the battery has some risk for some mishaps', ' Like a single leakage in battery or any accident can turn into blast hope they have taken care of i', ' So many companies are launching and trying to launch electric version with similar features and even more as Tata Motors does but still, they are lagging behind Tata Motors in price, features, timing of introduction, when it is much needed, battery strength that to at such primitive stage and', ' Even with 95% battery, its system is detecting 0 battery power', 'Recently purchased this car, driver comfort, providing powerful engine give freshness, leg space is awesome, boot space good, unique design Company should thing about the mileage that will better', ' Leading the charge is the Nexon ev with great power, high battery life and all features you would want in your car', ' It blends power, battery life, price, features and size superbly', ' No issues in city traffic driving as the regenerative braking adds power to the battery', 'Tata Nexon ev car has amazing features,and this is affordable luxury car in india,anyone can drive this car,this car is best and safest for offroading and family touring & traveling,this car has airbag and best braking system ,this car is more powerful and smart car in future for anyone ', \"Superd car each and everything so good, it's have powerful engine, design is too good, i have vary Good experience with driving this car, I love this car, it's tata best and best car, no one car have compared with this car\", ' Tata Nexon is one of the most powerful 35kw batteries', ' Second is tremendous power and smooth acceleration of the electric motor felt at the word go', ' The car suddenly switched to neutral while on the move and the steering and brakes, which are power-assisted, stopped to work', 'Nice car, I would rather say very silent, very powerful', ' Tata has done a nice job, to promote electric vehicles, without compromising power output', \" With this much torque and power in the electric version, it's going to catch eyes of the buyers and also environment-friendly\", ' Amazing performance', 'Nice performance and looks', 'Best car i would say, Best in safety, performance', 'Very nice performance this car very good spece and best to long drive also and the engine is very good and better to easily drive and very good milege i am so Happy to drive this car', 'Nice and very comfortable car interior comfort is relaxing and outer exterior is aggressive design are very cool and performance of engine is to good eco-friendly car in budget segment good to buy ', 'Awesome experience through out the journey with Tata ev, exspecially the performance almost used 500 kms, getting better efficiency and most importantly safety features', ' 8 years of battery warranty and awesome performance make it perfect', 'Very nice car it is amazing at this price you get screen very nice you purchase it is nice car performance is nice mileage is low and price but nice car', ' Nimble clutch and solid driving performance on high speed you will fell more confidence', ' Tata has done a really good job with the Nexon EV and the very punchy performance', 'This car is good by driving performance but the price is too high', ' Believe me or not this is the revolution in the Indian Electric car segment, both in terms of comfort as well as performance', 'Nice performance, full comfort in the car', ' Nexon and Tiger EV is the only affordable car for all buyers which gives ample amount of less maintenance as well as performance', ' It has great performance and delivers smooth driving', 'Nice mileage, better battery, performance, nice look, stylish body', \" Brilliant performance, especially in 'S' mode\", 'Amazing pickup, great performance, and also mileage and rang appropriately 240 km which is great', ' Very Happy with performance If only the dealership and service centre lives up to the car quality', 'Very nice car it looks very awesome and its performance is wonderful', ' The efficiency and performance of these are good', 'I got this car last week and I am amazed at its performance', ' It is an affordable car with nice performance', 'Everything about this car is very appealing, the looks performance and ergonomics', 'Tata is the best company in the world Tata Nexon EV is an electric vehicle I like the feature and all over the performance of the car', 'More spacious car and every one will be comfortable', 'Good car with good safety and comfort with all options', 'Love this car, very comfortable and pocket friendly', ' Legroom space is very spacious and comfortable seating', ' Interior quality is up to the mark and seats are extremely comfortable', 'Recently purchased this car, driver comfort, providing powerful engine give freshness, leg space is awesome, boot space good, unique design Company should thing about the mileage that will better', \"Ride is very comfortable, interiors are very premium Will do a max of 160 km on a single charge as against company's claim of 312 km, very huge gap Buy only if you have charging points at both locations (home and office) Pickup in sport mode is amazing but consumes a lot of battery Overall an expensive vehicle\", 'Very nice and comfortable driving', ' And driving comfortable also there', 'comfort, well breaking ,comfort setting also driving', 'Beautiful looks both interior and exterior, all are comfortable as like a medium range car', 'Nice and very comfortable car interior comfort is relaxing and outer exterior is aggressive design are very cool and performance of engine is to good eco-friendly car in budget segment good to buy ', ' It has all latest features of high quality products like inner and extremely comfortable', \"5-litre diesel engine with a top-class interior and comfortable on long route smooth and very tough body of tata as it's one of the best model tata has made I am not a person who just praise like that but it's an ultimate car muv in this range and I have\", ' Interior comfort and external design is awesome', ' The range are also so comfortable', ' Believe me or not this is the revolution in the Indian Electric car segment, both in terms of comfort as well as performance', 'Nice performance, full comfort in the car', ' the car is very spacious and comfortable for sitting', 'EV vehicle is good, but battery suddenly dropping, this is very dangers and uncomfortable thing', \"I really love this Tata Nexon EV, its really very nice and comfortable car and it's a battery car so overall, I love it\", 'Hindustan ki full safety car, best mileage, full comfortable SUV is smooth for long root drive, music system is best', ' Nexon comfort and Value for money ', \"I like this car's safety and comfort and the design is impressive and I prefer all the people to buy this car because at this price\", ' Legroom space is very spacious and comfortable seating', ' 1 Indian manufacturers 2 eco friendly 3 pocket friendly not too big for parking space', 'Recently purchased this car, driver comfort, providing powerful engine give freshness, leg space is awesome, boot space good, unique design Company should thing about the mileage that will better', ' Built quality - Best Boot space - More than other competitors Power - more than other competitors Average - more than other competitors Service center - More than other competitors You can do charging at various accessible places', ' I like the space in the car to relax, and it makes no sound', ' Ample cabin space and gr', 'Need to increase mileage, battery capacity so range also increases, other features are good', 'Recently purchased this car, driver comfort, providing powerful engine give freshness, leg space is awesome, boot space good, unique design Company should thing about the mileage that will better', 'As per I have driven the tata Nexon XM petrol car its has very smooth driving freely with better mileage than other companies cars ', 'Very nice car it is amazing at this price you get screen very nice you purchase it is nice car performance is nice mileage is low and price but nice car', ' Price range and mileage is best in this class', ' Full Safety, maintenance cost is very low and mileage is good', ' Its mileage is impressive, and the acceleration is fantastic', ' The issue is the mileage on a full charge in sports mode is around 125km, and the normal is around 190km', ' It gives good mileage, charging is easy, and more than that we are contributing to the environment along with Tata', 'Nice mileage, better battery, performance, nice look, stylish body', ' And whiles the mileage of any car depends on judicious driving, the claimed mileage is way off', 'Amazing pickup, great performance, and also mileage and rang appropriately 240 km which is great', 'I recently bought this vehicle, but not happy with the mileage that Tata claims, they are making fool out of us', 'Hindustan ki full safety car, best mileage, full comfortable SUV is smooth for long root drive, music system is best', ' The mileage of this car is also good', ' It is the best car in safety, features, mileage, quality, body, and price', ' Great looks, awesome mileage and no need to stand in the queue to get petrol, Diesel or CNG']\n",
            "design\n",
            "[' Tata should lower the Nexon price and increase market share Tata Punch EV - 5-8 Lakhs Tata Nexon EV 300 km range - 8-10 Lakhs Tata Nexon EV 400 km range - 10-15 Lakhs Because, the affordability in lower range and availability in mid-range is important optional swappable range extender batteries would become a super hit like partnering with swappable battery stations', 'Need to increase mileage, battery capacity so range also increases, other features are good', ' It gives me a range of 200-220 km on full AC', ' If i use it in city and highways I get a range of 170-180 km if used strictly in city and small lanes with average speed not going above 30kms', ' Approximate range according to my driving with AC ,music system etc always switched on', \" It can't be only car to own due to under developing charging infrastructure and insufficient range\", 'The best electronic car in India in this price range obsolete use of money Tata nexon is my favourite car because I love electronic cars ', 'Beautiful looks both interior and exterior, all are comfortable as like a medium range car', 'This car is the most value for money and not further any servicing charge pay on due to this car no effect on an environment This car range is very good which is 312km / charge This is the best car in the segment of tata motors Thank you', \"5-litre diesel engine with a top-class interior and comfortable on long route smooth and very tough body of tata as it's one of the best model tata has made I am not a person who just praise like that but it's an ultimate car muv in this range and I have\", ' The range are also so comfortable', ' There is only two primary deterrents, I see, the range and available charging stations', ' I expect at least a range of 400 km or charging stations at least at each of the toll plazas', ' Price range and mileage is best in this class', ' Its range is also good', \" The range is very limited, can't operate AC to ensure reaching home without being stuck in the middle\", ' You can get a range of 180 to 190 with AC, without AC you Can Get a Range of 200 to 220', ' does not give the range as the company says', ' The company says the range is 250 km per charge but only goes 160 km per charge', ' A realistic range of 210-240kms and depending on your driving style, you can get more', 'After reading all such reviews I would like to have this Electric miracle in 2027-28 when It would be more affordable to me in the range of 7-8 Lacs', 'Charging stations are less available and running range also not sufficient', 'Tata Nexon EV is one of the best affordable long-range electric vehicle available in India', 'I am highly disappointed by this car due to the range and behavior of the dealer', ' I am driving this car daily for the last four months and very much upset by the real-world range', ' Company claims a range of 300 but the real-world range is 140 km per charge with AC, and 150 km without AC', ' But for my friends, i have daily commute of 70-80 KM and in the city, I am getting 220-230 range with a single charge', ' Getting a range of 210km for 100%', ' Normally I recharge it when it comes to 25% for which I used to get a range of 165 to 170kms (for 75%)', 'Tata Nexon EV is an innovative car, 5 stars crash rating safest, connected, 3 variants, the perfect car for sustainable mobility, good range, low maintenance, globally first A Benchmark', ' The response time is excellent range per full charge is around 200km within the city', ' The 30 KW battery is sufficient for city drive but there should have been a higher variant with 50Kw battery to cover up the range anxiety', ' ARAI claim 312km per full charge, after a lot of research I found real-world range is 193km, a good driver will get 240km max', ' Affordable range nearly 220-240 in reality', ' Tata should lower the Nexon price and increase market share Tata Punch EV - 5-8 Lakhs Tata Nexon EV 300 km range - 8-10 Lakhs Tata Nexon EV 400 km range - 10-15 Lakhs Because, the affordability in lower range and availability in mid-range is important optional swappable range extender batteries would become a super hit like partnering with swappable battery stations', ' Breaking and recharging battery while breaking is ultimate', 'This nice car this future ka electric best in electric nexon EV no Diesel fuel no petrol is maintenance is battery level 8 year warranty karej warranty 5 year interior best looking', 'Need to increase mileage, battery capacity so range also increases, other features are good', \" Finally 2 days back they replaced the battery pack, we thought our problems are over but no, this car won't let you sleep in peace\", ' Even with 95% battery, its system is detecting 0 battery power', \" Everything is good not good great at this price segment Cons : is only on thing small battery capacity but it worthy at this price so we can't expect more Finally it's value for money car\", \"Ride is very comfortable, interiors are very premium Will do a max of 160 km on a single charge as against company's claim of 312 km, very huge gap Buy only if you have charging points at both locations (home and office) Pickup in sport mode is amazing but consumes a lot of battery Overall an expensive vehicle\", ' Leading the charge is the Nexon ev with great power, high battery life and all features you would want in your car', ' It blends power, battery life, price, features and size superbly', ' No issues in city traffic driving as the regenerative braking adds power to the battery', 'charging a double price for placing battery and not reducing price for removing parts which are in non-electric Nexon', ' tata is charging money of non-electric Nexon + battery ', ' 8 years of battery warranty and awesome performance make it perfect', ' I found 3 times there is a sudden drop in battery percentage from 60% to 20% 1st time and 2nd time the battery percentage dropped from 50% to 22%', 'Nice mileage, better battery, performance, nice look, stylish body', 'EV vehicle is good, but battery suddenly dropping, this is very dangers and uncomfortable thing', ' Yesterday Nexon EV vehicle backdowns at remaining battery 30%', ' If the battery charging itself shows 173 km means how it can for 312', 'The battery does not charge fully', ' After car service, the battery issue was not resolved at all', 'This is the only Electric Vehicle available with reliable latest battery aided technology coupled with safety - both features and builds quality', \"Don't buy this car, just after a day of purchase battery percentage by 30-40%\", ' even with 95% battery, its system is detecting 0 battery and the car is locked with limp mode', ' You can get stranded anytime, anywhere even with a full battery', \"I really love this Tata Nexon EV, its really very nice and comfortable car and it's a battery car so overall, I love it\", 'Nexon EV price should be under 10L for top-end variant - Adding extra rage extender battery would be better as a standard feature for all EV vehicles - Battery Swapping technology is a must for EVs for better demand - Govt should announce 100% tax exemption for the purchase of any EVs until 2030 - Mileage limits should be announced by Govt under 1l', ' The 30 KW battery is sufficient for city drive but there should have been a higher variant with 50Kw battery to cover up the range anxiety', ' I think that the battery has some risk for some mishaps', ' Like a single leakage in battery or any accident can turn into blast hope they have taken care of i', ' So many companies are launching and trying to launch electric version with similar features and even more as Tata Motors does but still, they are lagging behind Tata Motors in price, features, timing of introduction, when it is much needed, battery strength that to at such primitive stage and', ' Even with 95% battery, its system is detecting 0 battery power', 'Recently purchased this car, driver comfort, providing powerful engine give freshness, leg space is awesome, boot space good, unique design Company should thing about the mileage that will better', ' Leading the charge is the Nexon ev with great power, high battery life and all features you would want in your car', ' It blends power, battery life, price, features and size superbly', ' No issues in city traffic driving as the regenerative braking adds power to the battery', 'Tata Nexon ev car has amazing features,and this is affordable luxury car in india,anyone can drive this car,this car is best and safest for offroading and family touring & traveling,this car has airbag and best braking system ,this car is more powerful and smart car in future for anyone ', \"Superd car each and everything so good, it's have powerful engine, design is too good, i have vary Good experience with driving this car, I love this car, it's tata best and best car, no one car have compared with this car\", ' Tata Nexon is one of the most powerful 35kw batteries', ' Second is tremendous power and smooth acceleration of the electric motor felt at the word go', ' The car suddenly switched to neutral while on the move and the steering and brakes, which are power-assisted, stopped to work', 'Nice car, I would rather say very silent, very powerful', ' Tata has done a nice job, to promote electric vehicles, without compromising power output', \" With this much torque and power in the electric version, it's going to catch eyes of the buyers and also environment-friendly\", ' Amazing performance', 'Nice performance and looks', 'Best car i would say, Best in safety, performance', 'Very nice performance this car very good spece and best to long drive also and the engine is very good and better to easily drive and very good milege i am so Happy to drive this car', 'Nice and very comfortable car interior comfort is relaxing and outer exterior is aggressive design are very cool and performance of engine is to good eco-friendly car in budget segment good to buy ', 'Awesome experience through out the journey with Tata ev, exspecially the performance almost used 500 kms, getting better efficiency and most importantly safety features', ' 8 years of battery warranty and awesome performance make it perfect', 'Very nice car it is amazing at this price you get screen very nice you purchase it is nice car performance is nice mileage is low and price but nice car', ' Nimble clutch and solid driving performance on high speed you will fell more confidence', ' Tata has done a really good job with the Nexon EV and the very punchy performance', 'This car is good by driving performance but the price is too high', ' Believe me or not this is the revolution in the Indian Electric car segment, both in terms of comfort as well as performance', 'Nice performance, full comfort in the car', ' Nexon and Tiger EV is the only affordable car for all buyers which gives ample amount of less maintenance as well as performance', ' It has great performance and delivers smooth driving', 'Nice mileage, better battery, performance, nice look, stylish body', \" Brilliant performance, especially in 'S' mode\", 'Amazing pickup, great performance, and also mileage and rang appropriately 240 km which is great', ' Very Happy with performance If only the dealership and service centre lives up to the car quality', 'Very nice car it looks very awesome and its performance is wonderful', ' The efficiency and performance of these are good', 'I got this car last week and I am amazed at its performance', ' It is an affordable car with nice performance', 'Everything about this car is very appealing, the looks performance and ergonomics', 'Tata is the best company in the world Tata Nexon EV is an electric vehicle I like the feature and all over the performance of the car', 'More spacious car and every one will be comfortable', 'Good car with good safety and comfort with all options', 'Love this car, very comfortable and pocket friendly', ' Legroom space is very spacious and comfortable seating', ' Interior quality is up to the mark and seats are extremely comfortable', 'Recently purchased this car, driver comfort, providing powerful engine give freshness, leg space is awesome, boot space good, unique design Company should thing about the mileage that will better', \"Ride is very comfortable, interiors are very premium Will do a max of 160 km on a single charge as against company's claim of 312 km, very huge gap Buy only if you have charging points at both locations (home and office) Pickup in sport mode is amazing but consumes a lot of battery Overall an expensive vehicle\", 'Very nice and comfortable driving', ' And driving comfortable also there', 'comfort, well breaking ,comfort setting also driving', 'Beautiful looks both interior and exterior, all are comfortable as like a medium range car', 'Nice and very comfortable car interior comfort is relaxing and outer exterior is aggressive design are very cool and performance of engine is to good eco-friendly car in budget segment good to buy ', ' It has all latest features of high quality products like inner and extremely comfortable', \"5-litre diesel engine with a top-class interior and comfortable on long route smooth and very tough body of tata as it's one of the best model tata has made I am not a person who just praise like that but it's an ultimate car muv in this range and I have\", ' Interior comfort and external design is awesome', ' The range are also so comfortable', ' Believe me or not this is the revolution in the Indian Electric car segment, both in terms of comfort as well as performance', 'Nice performance, full comfort in the car', ' the car is very spacious and comfortable for sitting', 'EV vehicle is good, but battery suddenly dropping, this is very dangers and uncomfortable thing', \"I really love this Tata Nexon EV, its really very nice and comfortable car and it's a battery car so overall, I love it\", 'Hindustan ki full safety car, best mileage, full comfortable SUV is smooth for long root drive, music system is best', ' Nexon comfort and Value for money ', \"I like this car's safety and comfort and the design is impressive and I prefer all the people to buy this car because at this price\", ' Legroom space is very spacious and comfortable seating', ' 1 Indian manufacturers 2 eco friendly 3 pocket friendly not too big for parking space', 'Recently purchased this car, driver comfort, providing powerful engine give freshness, leg space is awesome, boot space good, unique design Company should thing about the mileage that will better', ' Built quality - Best Boot space - More than other competitors Power - more than other competitors Average - more than other competitors Service center - More than other competitors You can do charging at various accessible places', ' I like the space in the car to relax, and it makes no sound', ' Ample cabin space and gr', 'Need to increase mileage, battery capacity so range also increases, other features are good', 'Recently purchased this car, driver comfort, providing powerful engine give freshness, leg space is awesome, boot space good, unique design Company should thing about the mileage that will better', 'As per I have driven the tata Nexon XM petrol car its has very smooth driving freely with better mileage than other companies cars ', 'Very nice car it is amazing at this price you get screen very nice you purchase it is nice car performance is nice mileage is low and price but nice car', ' Price range and mileage is best in this class', ' Full Safety, maintenance cost is very low and mileage is good', ' Its mileage is impressive, and the acceleration is fantastic', ' The issue is the mileage on a full charge in sports mode is around 125km, and the normal is around 190km', ' It gives good mileage, charging is easy, and more than that we are contributing to the environment along with Tata', 'Nice mileage, better battery, performance, nice look, stylish body', ' And whiles the mileage of any car depends on judicious driving, the claimed mileage is way off', 'Amazing pickup, great performance, and also mileage and rang appropriately 240 km which is great', 'I recently bought this vehicle, but not happy with the mileage that Tata claims, they are making fool out of us', 'Hindustan ki full safety car, best mileage, full comfortable SUV is smooth for long root drive, music system is best', ' The mileage of this car is also good', ' It is the best car in safety, features, mileage, quality, body, and price', ' Great looks, awesome mileage and no need to stand in the queue to get petrol, Diesel or CNG', 'Recently purchased this car, driver comfort, providing powerful engine give freshness, leg space is awesome, boot space good, unique design Company should thing about the mileage that will better', 'Really very nice well design easy to access control', 'Nice and very comfortable car interior comfort is relaxing and outer exterior is aggressive design are very cool and performance of engine is to good eco-friendly car in budget segment good to buy ', \"This is unbelievable and this is so amazing awesome luxurious and cool design and safest car Tata company in Indian company and manufacture good quality car and I like this card and in future i'm purchase this car and car colour combination is awesome very beautiful and like Tata company all variants of car \", ' Interior comfort and external design is awesome', \"Superd car each and everything so good, it's have powerful engine, design is too good, i have vary Good experience with driving this car, I love this car, it's tata best and best car, no one car have compared with this car\", ' The car design is the most attractive and stylish', 'I love to buy an alectric car designed by Tata Nixon in India', ' It looks rich from the inside with great design', \"I like this car's safety and comfort and the design is impressive and I prefer all the people to buy this car because at this price\", ' Tata brings the car at electric version and its design at this price is impressive']\n"
          ]
        }
      ]
    },
    {
      "cell_type": "code",
      "source": [
        "with open(\"/content/nexon.txt\", \"r\") as file_handle:\n",
        "  df = pd.DataFrame(file_handle.readlines())\n",
        "\n",
        "# Save Dataframe to CSV\n",
        "df.to_csv(\"nexon.csv\", header='ReviewText')"
      ],
      "metadata": {
        "id": "FLFgu4BJq60B"
      },
      "execution_count": null,
      "outputs": []
    },
    {
      "cell_type": "code",
      "source": [
        "nexd=pd.read_csv('/content/nexon.csv')\n",
        "nexd.head()"
      ],
      "metadata": {
        "colab": {
          "base_uri": "https://localhost:8080/",
          "height": 206
        },
        "id": "YABia-f4k67V",
        "outputId": "4869d9a2-6e81-4ce1-b9c7-302431b620eb"
      },
      "execution_count": null,
      "outputs": [
        {
          "output_type": "execute_result",
          "data": {
            "text/plain": [
              "   Unnamed: 0                                               Text\n",
              "0           0  Tata should lower the Nexon price and increase...\n",
              "1           1  Need to increase mileage, battery capacity so ...\n",
              "2           2     It gives me a range of 200-220 km on full AC\\n\n",
              "3           3   If i use it in city and highways I get a rang...\n",
              "4           4   Approximate range according to my driving wit..."
            ],
            "text/html": [
              "\n",
              "  <div id=\"df-000f818d-ff2c-4bd9-a46b-f4792a5e1e5a\">\n",
              "    <div class=\"colab-df-container\">\n",
              "      <div>\n",
              "<style scoped>\n",
              "    .dataframe tbody tr th:only-of-type {\n",
              "        vertical-align: middle;\n",
              "    }\n",
              "\n",
              "    .dataframe tbody tr th {\n",
              "        vertical-align: top;\n",
              "    }\n",
              "\n",
              "    .dataframe thead th {\n",
              "        text-align: right;\n",
              "    }\n",
              "</style>\n",
              "<table border=\"1\" class=\"dataframe\">\n",
              "  <thead>\n",
              "    <tr style=\"text-align: right;\">\n",
              "      <th></th>\n",
              "      <th>Unnamed: 0</th>\n",
              "      <th>Text</th>\n",
              "    </tr>\n",
              "  </thead>\n",
              "  <tbody>\n",
              "    <tr>\n",
              "      <th>0</th>\n",
              "      <td>0</td>\n",
              "      <td>Tata should lower the Nexon price and increase...</td>\n",
              "    </tr>\n",
              "    <tr>\n",
              "      <th>1</th>\n",
              "      <td>1</td>\n",
              "      <td>Need to increase mileage, battery capacity so ...</td>\n",
              "    </tr>\n",
              "    <tr>\n",
              "      <th>2</th>\n",
              "      <td>2</td>\n",
              "      <td>It gives me a range of 200-220 km on full AC\\n</td>\n",
              "    </tr>\n",
              "    <tr>\n",
              "      <th>3</th>\n",
              "      <td>3</td>\n",
              "      <td>If i use it in city and highways I get a rang...</td>\n",
              "    </tr>\n",
              "    <tr>\n",
              "      <th>4</th>\n",
              "      <td>4</td>\n",
              "      <td>Approximate range according to my driving wit...</td>\n",
              "    </tr>\n",
              "  </tbody>\n",
              "</table>\n",
              "</div>\n",
              "      <button class=\"colab-df-convert\" onclick=\"convertToInteractive('df-000f818d-ff2c-4bd9-a46b-f4792a5e1e5a')\"\n",
              "              title=\"Convert this dataframe to an interactive table.\"\n",
              "              style=\"display:none;\">\n",
              "        \n",
              "  <svg xmlns=\"http://www.w3.org/2000/svg\" height=\"24px\"viewBox=\"0 0 24 24\"\n",
              "       width=\"24px\">\n",
              "    <path d=\"M0 0h24v24H0V0z\" fill=\"none\"/>\n",
              "    <path d=\"M18.56 5.44l.94 2.06.94-2.06 2.06-.94-2.06-.94-.94-2.06-.94 2.06-2.06.94zm-11 1L8.5 8.5l.94-2.06 2.06-.94-2.06-.94L8.5 2.5l-.94 2.06-2.06.94zm10 10l.94 2.06.94-2.06 2.06-.94-2.06-.94-.94-2.06-.94 2.06-2.06.94z\"/><path d=\"M17.41 7.96l-1.37-1.37c-.4-.4-.92-.59-1.43-.59-.52 0-1.04.2-1.43.59L10.3 9.45l-7.72 7.72c-.78.78-.78 2.05 0 2.83L4 21.41c.39.39.9.59 1.41.59.51 0 1.02-.2 1.41-.59l7.78-7.78 2.81-2.81c.8-.78.8-2.07 0-2.86zM5.41 20L4 18.59l7.72-7.72 1.47 1.35L5.41 20z\"/>\n",
              "  </svg>\n",
              "      </button>\n",
              "      \n",
              "  <style>\n",
              "    .colab-df-container {\n",
              "      display:flex;\n",
              "      flex-wrap:wrap;\n",
              "      gap: 12px;\n",
              "    }\n",
              "\n",
              "    .colab-df-convert {\n",
              "      background-color: #E8F0FE;\n",
              "      border: none;\n",
              "      border-radius: 50%;\n",
              "      cursor: pointer;\n",
              "      display: none;\n",
              "      fill: #1967D2;\n",
              "      height: 32px;\n",
              "      padding: 0 0 0 0;\n",
              "      width: 32px;\n",
              "    }\n",
              "\n",
              "    .colab-df-convert:hover {\n",
              "      background-color: #E2EBFA;\n",
              "      box-shadow: 0px 1px 2px rgba(60, 64, 67, 0.3), 0px 1px 3px 1px rgba(60, 64, 67, 0.15);\n",
              "      fill: #174EA6;\n",
              "    }\n",
              "\n",
              "    [theme=dark] .colab-df-convert {\n",
              "      background-color: #3B4455;\n",
              "      fill: #D2E3FC;\n",
              "    }\n",
              "\n",
              "    [theme=dark] .colab-df-convert:hover {\n",
              "      background-color: #434B5C;\n",
              "      box-shadow: 0px 1px 3px 1px rgba(0, 0, 0, 0.15);\n",
              "      filter: drop-shadow(0px 1px 2px rgba(0, 0, 0, 0.3));\n",
              "      fill: #FFFFFF;\n",
              "    }\n",
              "  </style>\n",
              "\n",
              "      <script>\n",
              "        const buttonEl =\n",
              "          document.querySelector('#df-000f818d-ff2c-4bd9-a46b-f4792a5e1e5a button.colab-df-convert');\n",
              "        buttonEl.style.display =\n",
              "          google.colab.kernel.accessAllowed ? 'block' : 'none';\n",
              "\n",
              "        async function convertToInteractive(key) {\n",
              "          const element = document.querySelector('#df-000f818d-ff2c-4bd9-a46b-f4792a5e1e5a');\n",
              "          const dataTable =\n",
              "            await google.colab.kernel.invokeFunction('convertToInteractive',\n",
              "                                                     [key], {});\n",
              "          if (!dataTable) return;\n",
              "\n",
              "          const docLinkHtml = 'Like what you see? Visit the ' +\n",
              "            '<a target=\"_blank\" href=https://colab.research.google.com/notebooks/data_table.ipynb>data table notebook</a>'\n",
              "            + ' to learn more about interactive tables.';\n",
              "          element.innerHTML = '';\n",
              "          dataTable['output_type'] = 'display_data';\n",
              "          await google.colab.output.renderOutput(dataTable, element);\n",
              "          const docLink = document.createElement('div');\n",
              "          docLink.innerHTML = docLinkHtml;\n",
              "          element.appendChild(docLink);\n",
              "        }\n",
              "      </script>\n",
              "    </div>\n",
              "  </div>\n",
              "  "
            ]
          },
          "metadata": {},
          "execution_count": 125
        }
      ]
    },
    {
      "cell_type": "code",
      "source": [
        "!pip install textblob"
      ],
      "metadata": {
        "colab": {
          "base_uri": "https://localhost:8080/"
        },
        "id": "ddDUAzkdrotH",
        "outputId": "1aa500a7-aa86-4fc6-e16f-5580bc6e0644"
      },
      "execution_count": null,
      "outputs": [
        {
          "output_type": "stream",
          "name": "stdout",
          "text": [
            "Requirement already satisfied: textblob in /usr/local/lib/python3.7/dist-packages (0.15.3)\n",
            "Requirement already satisfied: nltk>=3.1 in /usr/local/lib/python3.7/dist-packages (from textblob) (3.2.5)\n",
            "Requirement already satisfied: six in /usr/local/lib/python3.7/dist-packages (from nltk>=3.1->textblob) (1.15.0)\n"
          ]
        }
      ]
    },
    {
      "cell_type": "code",
      "source": [
        "from textblob import TextBlob\n",
        "def calculate_sentiment(review):\n",
        "  text = TextBlob(review)\n",
        "  return text.sentiment.polarity"
      ],
      "metadata": {
        "id": "B5C1QwG1rouh"
      },
      "execution_count": null,
      "outputs": []
    },
    {
      "cell_type": "code",
      "source": [
        "nexd['Sentiment_Score']=nexd['Text'].map(calculate_sentiment)\n",
        "nexd.head()\n",
        "nexd.Sentiment_Score.describe()"
      ],
      "metadata": {
        "colab": {
          "base_uri": "https://localhost:8080/"
        },
        "id": "PanXj74groyE",
        "outputId": "3e84a083-cec5-43d1-97b2-ee48ce1f3f1e"
      },
      "execution_count": null,
      "outputs": [
        {
          "output_type": "execute_result",
          "data": {
            "text/plain": [
              "count    34.000000\n",
              "mean      0.232125\n",
              "std       0.333597\n",
              "min      -0.437500\n",
              "25%       0.000000\n",
              "50%       0.228704\n",
              "75%       0.442750\n",
              "max       1.000000\n",
              "Name: Sentiment_Score, dtype: float64"
            ]
          },
          "metadata": {},
          "execution_count": 128
        }
      ]
    },
    {
      "cell_type": "code",
      "source": [
        "def getAnalysis(score):\n",
        "  if score < 0:\n",
        "    return \"Negative\"\n",
        "  elif score == 0:\n",
        "    return \"Neutral\"\n",
        "  else:\n",
        "    return \"Positive\"\n",
        "\n"
      ],
      "metadata": {
        "id": "jnzIHOlktDcl"
      },
      "execution_count": null,
      "outputs": []
    },
    {
      "cell_type": "code",
      "source": [
        "nexd['Sentiment']=nexd['Sentiment_Score'].map(getAnalysis)\n",
        "nexd.head()"
      ],
      "metadata": {
        "id": "b86usx0Yjd8v",
        "colab": {
          "base_uri": "https://localhost:8080/",
          "height": 206
        },
        "outputId": "b2a3fc41-5aad-4f07-85de-0107ed81f1a9"
      },
      "execution_count": null,
      "outputs": [
        {
          "output_type": "execute_result",
          "data": {
            "text/plain": [
              "   Unnamed: 0                                               Text  \\\n",
              "0           0  Tata should lower the Nexon price and increase...   \n",
              "1           1  Need to increase mileage, battery capacity so ...   \n",
              "2           2     It gives me a range of 200-220 km on full AC\\n   \n",
              "3           3   If i use it in city and highways I get a rang...   \n",
              "4           4   Approximate range according to my driving wit...   \n",
              "\n",
              "   Sentiment_Score Sentiment  \n",
              "0         0.366667  Positive  \n",
              "1         0.287500  Positive  \n",
              "2         0.350000  Positive  \n",
              "3        -0.133333  Negative  \n",
              "4        -0.400000  Negative  "
            ],
            "text/html": [
              "\n",
              "  <div id=\"df-81fd5075-c3c8-4ec7-ad32-146bafec7eaf\">\n",
              "    <div class=\"colab-df-container\">\n",
              "      <div>\n",
              "<style scoped>\n",
              "    .dataframe tbody tr th:only-of-type {\n",
              "        vertical-align: middle;\n",
              "    }\n",
              "\n",
              "    .dataframe tbody tr th {\n",
              "        vertical-align: top;\n",
              "    }\n",
              "\n",
              "    .dataframe thead th {\n",
              "        text-align: right;\n",
              "    }\n",
              "</style>\n",
              "<table border=\"1\" class=\"dataframe\">\n",
              "  <thead>\n",
              "    <tr style=\"text-align: right;\">\n",
              "      <th></th>\n",
              "      <th>Unnamed: 0</th>\n",
              "      <th>Text</th>\n",
              "      <th>Sentiment_Score</th>\n",
              "      <th>Sentiment</th>\n",
              "    </tr>\n",
              "  </thead>\n",
              "  <tbody>\n",
              "    <tr>\n",
              "      <th>0</th>\n",
              "      <td>0</td>\n",
              "      <td>Tata should lower the Nexon price and increase...</td>\n",
              "      <td>0.366667</td>\n",
              "      <td>Positive</td>\n",
              "    </tr>\n",
              "    <tr>\n",
              "      <th>1</th>\n",
              "      <td>1</td>\n",
              "      <td>Need to increase mileage, battery capacity so ...</td>\n",
              "      <td>0.287500</td>\n",
              "      <td>Positive</td>\n",
              "    </tr>\n",
              "    <tr>\n",
              "      <th>2</th>\n",
              "      <td>2</td>\n",
              "      <td>It gives me a range of 200-220 km on full AC\\n</td>\n",
              "      <td>0.350000</td>\n",
              "      <td>Positive</td>\n",
              "    </tr>\n",
              "    <tr>\n",
              "      <th>3</th>\n",
              "      <td>3</td>\n",
              "      <td>If i use it in city and highways I get a rang...</td>\n",
              "      <td>-0.133333</td>\n",
              "      <td>Negative</td>\n",
              "    </tr>\n",
              "    <tr>\n",
              "      <th>4</th>\n",
              "      <td>4</td>\n",
              "      <td>Approximate range according to my driving wit...</td>\n",
              "      <td>-0.400000</td>\n",
              "      <td>Negative</td>\n",
              "    </tr>\n",
              "  </tbody>\n",
              "</table>\n",
              "</div>\n",
              "      <button class=\"colab-df-convert\" onclick=\"convertToInteractive('df-81fd5075-c3c8-4ec7-ad32-146bafec7eaf')\"\n",
              "              title=\"Convert this dataframe to an interactive table.\"\n",
              "              style=\"display:none;\">\n",
              "        \n",
              "  <svg xmlns=\"http://www.w3.org/2000/svg\" height=\"24px\"viewBox=\"0 0 24 24\"\n",
              "       width=\"24px\">\n",
              "    <path d=\"M0 0h24v24H0V0z\" fill=\"none\"/>\n",
              "    <path d=\"M18.56 5.44l.94 2.06.94-2.06 2.06-.94-2.06-.94-.94-2.06-.94 2.06-2.06.94zm-11 1L8.5 8.5l.94-2.06 2.06-.94-2.06-.94L8.5 2.5l-.94 2.06-2.06.94zm10 10l.94 2.06.94-2.06 2.06-.94-2.06-.94-.94-2.06-.94 2.06-2.06.94z\"/><path d=\"M17.41 7.96l-1.37-1.37c-.4-.4-.92-.59-1.43-.59-.52 0-1.04.2-1.43.59L10.3 9.45l-7.72 7.72c-.78.78-.78 2.05 0 2.83L4 21.41c.39.39.9.59 1.41.59.51 0 1.02-.2 1.41-.59l7.78-7.78 2.81-2.81c.8-.78.8-2.07 0-2.86zM5.41 20L4 18.59l7.72-7.72 1.47 1.35L5.41 20z\"/>\n",
              "  </svg>\n",
              "      </button>\n",
              "      \n",
              "  <style>\n",
              "    .colab-df-container {\n",
              "      display:flex;\n",
              "      flex-wrap:wrap;\n",
              "      gap: 12px;\n",
              "    }\n",
              "\n",
              "    .colab-df-convert {\n",
              "      background-color: #E8F0FE;\n",
              "      border: none;\n",
              "      border-radius: 50%;\n",
              "      cursor: pointer;\n",
              "      display: none;\n",
              "      fill: #1967D2;\n",
              "      height: 32px;\n",
              "      padding: 0 0 0 0;\n",
              "      width: 32px;\n",
              "    }\n",
              "\n",
              "    .colab-df-convert:hover {\n",
              "      background-color: #E2EBFA;\n",
              "      box-shadow: 0px 1px 2px rgba(60, 64, 67, 0.3), 0px 1px 3px 1px rgba(60, 64, 67, 0.15);\n",
              "      fill: #174EA6;\n",
              "    }\n",
              "\n",
              "    [theme=dark] .colab-df-convert {\n",
              "      background-color: #3B4455;\n",
              "      fill: #D2E3FC;\n",
              "    }\n",
              "\n",
              "    [theme=dark] .colab-df-convert:hover {\n",
              "      background-color: #434B5C;\n",
              "      box-shadow: 0px 1px 3px 1px rgba(0, 0, 0, 0.15);\n",
              "      filter: drop-shadow(0px 1px 2px rgba(0, 0, 0, 0.3));\n",
              "      fill: #FFFFFF;\n",
              "    }\n",
              "  </style>\n",
              "\n",
              "      <script>\n",
              "        const buttonEl =\n",
              "          document.querySelector('#df-81fd5075-c3c8-4ec7-ad32-146bafec7eaf button.colab-df-convert');\n",
              "        buttonEl.style.display =\n",
              "          google.colab.kernel.accessAllowed ? 'block' : 'none';\n",
              "\n",
              "        async function convertToInteractive(key) {\n",
              "          const element = document.querySelector('#df-81fd5075-c3c8-4ec7-ad32-146bafec7eaf');\n",
              "          const dataTable =\n",
              "            await google.colab.kernel.invokeFunction('convertToInteractive',\n",
              "                                                     [key], {});\n",
              "          if (!dataTable) return;\n",
              "\n",
              "          const docLinkHtml = 'Like what you see? Visit the ' +\n",
              "            '<a target=\"_blank\" href=https://colab.research.google.com/notebooks/data_table.ipynb>data table notebook</a>'\n",
              "            + ' to learn more about interactive tables.';\n",
              "          element.innerHTML = '';\n",
              "          dataTable['output_type'] = 'display_data';\n",
              "          await google.colab.output.renderOutput(dataTable, element);\n",
              "          const docLink = document.createElement('div');\n",
              "          docLink.innerHTML = docLinkHtml;\n",
              "          element.appendChild(docLink);\n",
              "        }\n",
              "      </script>\n",
              "    </div>\n",
              "  </div>\n",
              "  "
            ]
          },
          "metadata": {},
          "execution_count": 130
        }
      ]
    },
    {
      "cell_type": "code",
      "source": [
        "x = ['Battery', 'Range', 'Power', 'Performance', 'Comfort', 'Space', 'Mileage', 'Design']\n",
        "y = [Battery, Range, Power, Performance, comfort, space, Mileage, design]\n",
        "plt.barh(x, y)\n",
        " \n",
        "for index, value in enumerate(y):\n",
        "    plt.text(value, index,\n",
        "             str(value))\n",
        " \n",
        "plt.show()"
      ],
      "metadata": {
        "colab": {
          "base_uri": "https://localhost:8080/",
          "height": 265
        },
        "id": "LRRyLJ7zdZtA",
        "outputId": "92415ccf-5614-4ff5-e2ff-a9e90ac78d34"
      },
      "execution_count": null,
      "outputs": [
        {
          "output_type": "display_data",
          "data": {
            "text/plain": [
              "<Figure size 432x288 with 1 Axes>"
            ],
            "image/png": "[encoded data removed]"
          },
          "metadata": {
            "needs_background": "light"
          }
        }
      ]
    },
    {
      "cell_type": "code",
      "source": [
        "labels = ['Battery', 'Range', 'Power', 'Comfort', 'Performance', 'Space', 'Mileage', 'Design']\n",
        "x = [Battery, Range, Power, comfort, Performance, space, Mileage, design]\n",
        "\n",
        "plt.pie(x, labels=labels, autopct='%1.1f%%', explode=[0,0.1,0,0,0,0,0,0], shadow=True, startangle=90)\n",
        "plt.title('Tata Nexon EV')\n",
        "plt.legend(title=\"Attributes\", loc=\"lower right\")\n",
        "plt.axis('equal')\n",
        "plt.subplots_adjust(left=0, bottom=0.1, right=1)\n",
        "fig = plt.gcf()\n",
        "fig.set_size_inches(6,6)\n",
        "plt.show()"
      ],
      "metadata": {
        "colab": {
          "base_uri": "https://localhost:8080/",
          "height": 384
        },
        "id": "k_h2q2T0AWID",
        "outputId": "bdc2817e-3e4f-4790-b274-245881268056"
      },
      "execution_count": null,
      "outputs": [
        {
          "output_type": "display_data",
          "data": {
            "text/plain": [
              "<Figure size 432x432 with 1 Axes>"
            ],
            "image/png": "[encoded data removed]"
          },
          "metadata": {}
        }
      ]
    },
    {
      "cell_type": "code",
      "source": [
        "Positive = nexd.Sentiment.str.split(expand=True).stack().value_counts().Positive\n",
        "Negative = nexd.Sentiment.str.split(expand=True).stack().value_counts().Negative\n",
        "Neutral = nexd.Sentiment.str.split(expand=True).stack().value_counts().Neutral\n",
        "\n",
        "labels = ['Positive', 'Negative', 'Neutral']\n",
        "x = [Positive, Negative, Neutral]\n",
        "\n",
        "plt.pie(x, labels=labels, autopct='%1.1f%%', explode=[0.1, 0.2, 0], shadow=True, startangle=90)\n",
        "plt.title('Tata Nexon EV')\n",
        "plt.legend(title=\"Attributes\", loc=\"lower right\")\n",
        "plt.axis('equal')\n",
        "plt.subplots_adjust(left=0, bottom=0.1, right=1)\n",
        "fig = plt.gcf()\n",
        "fig.set_size_inches(6,6)\n",
        "plt.show()"
      ],
      "metadata": {
        "colab": {
          "base_uri": "https://localhost:8080/",
          "height": 384
        },
        "id": "91IlKWthuk5e",
        "outputId": "0258182a-73de-429e-b694-8b61eed409c6"
      },
      "execution_count": null,
      "outputs": [
        {
          "output_type": "display_data",
          "data": {
            "text/plain": [
              "<Figure size 432x432 with 1 Axes>"
            ],
            "image/png": "[encoded data removed]"
          },
          "metadata": {}
        }
      ]
    },
    {
      "cell_type": "markdown",
      "source": [
        "Kona Electric"
      ],
      "metadata": {
        "id": "9kVlFDqGCR0i"
      }
    },
    {
      "cell_type": "code",
      "source": [
        "data_kona = pd.concat(map(pd.read_csv, ['/content/kona-electric.csv', '/content/kona_electric_2.csv']))"
      ],
      "metadata": {
        "id": "gzrQyzYmCRN3"
      },
      "execution_count": null,
      "outputs": []
    },
    {
      "cell_type": "code",
      "source": [
        "data_kona['Preprocessed_Review']=data_kona['Review'].map(preprocess_sentence)"
      ],
      "metadata": {
        "id": "B4PfhxmJAWsJ"
      },
      "execution_count": null,
      "outputs": []
    },
    {
      "cell_type": "code",
      "source": [
        "Battery = data_kona.Preprocessed_Review.str.split(expand=True).stack().value_counts().battery\n",
        "Range = data_kona.Preprocessed_Review.str.split(expand=True).stack().value_counts().range\n",
        "Power = data_kona.Preprocessed_Review.str.split(expand=True).stack().value_counts().power\n",
        "Performance = data_kona.Preprocessed_Review.str.split(expand=True).stack().value_counts().performance\n",
        "comfort = data_kona.Preprocessed_Review.str.split(expand=True).stack().value_counts().comfort\n",
        "space = data_kona.Preprocessed_Review.str.split(expand=True).stack().value_counts().space\n",
        "Mileage = data_kona.Preprocessed_Review.str.split(expand=True).stack().value_counts().mileage \n",
        "design = data_kona.Preprocessed_Review.str.split(expand=True).stack().value_counts().design "
      ],
      "metadata": {
        "id": "MUh5hdmWClCc"
      },
      "execution_count": null,
      "outputs": []
    },
    {
      "cell_type": "code",
      "source": [
        "labels = ['Battery', 'Range', 'Power', 'Comfort', 'Performance', 'Space', 'Mileage', 'Design']\n",
        "x = [Battery, Range, Power, comfort, Performance, space, Mileage, design]\n",
        "\n",
        "plt.pie(x, labels=labels, autopct='%1.1f%%', explode=[0,0.1,0,0,0,0,0,0], shadow=True, startangle=90)\n",
        "plt.title('Kona Electric')\n",
        "plt.legend(title=\"Attributes\", loc=\"lower left\")\n",
        "plt.axis('equal')\n",
        "plt.subplots_adjust(left=0, bottom=0.1, right=1)\n",
        "fig = plt.gcf()\n",
        "fig.set_size_inches(6,6)\n",
        "plt.show()"
      ],
      "metadata": {
        "colab": {
          "base_uri": "https://localhost:8080/",
          "height": 388
        },
        "id": "AjDFuaI7CyGc",
        "outputId": "5363f143-c12d-406b-98d8-5e9fd195cfd8"
      },
      "execution_count": null,
      "outputs": [
        {
          "output_type": "display_data",
          "data": {
            "text/plain": [
              "<Figure size 432x432 with 1 Axes>"
            ],
            "image/png": "[encoded data removed]"
          },
          "metadata": {}
        }
      ]
    },
    {
      "cell_type": "code",
      "source": [
        "f = open('kona2.txt', 'w')\n",
        "for review in data_kona['Review']:\n",
        "  review = re.compile('[.?!]').split(review)\n",
        "  for i in review:\n",
        "    if 'range' in i:\n",
        "      f.write(i)\n",
        "      print(type(i))\n",
        "      print(i)"
      ],
      "metadata": {
        "colab": {
          "base_uri": "https://localhost:8080/"
        },
        "id": "bNjyo97gn_ZC",
        "outputId": "32ef003e-2f9c-4b8b-efdd-cc7cb1172a11"
      },
      "execution_count": null,
      "outputs": [
        {
          "output_type": "stream",
          "name": "stdout",
          "text": [
            "<class 'str'>\n",
            "Pretty good car, smooth as a glider fast car, instant pickup and the range in one charge is also pretty good as well, so we can go more miles, a catchy car grab our eye balls everyone wants to ride this\n",
            "<class 'str'>\n",
            "This car is a perfect, modern and stylish car one thing I like about the car it's is long-range and is safe and it so eye-catching a man just cross the road just to ask which Hyundai car is this lastly I love this car I hope you do thanks for your time\n",
            "<class 'str'>\n",
            " And I greatly appreciate Hyundai's innovation in bringing electric cars but the price for this is too much and even if the gst gets reduced it will come about 20l but there are many competitors in that range except for the electric transmission\n",
            "<class 'str'>\n",
            "One of the best EV car available in India with very good range\n",
            "<class 'str'>\n",
            " The price is also the best according to the standards of the car and such a long range drive in one charge\n",
            "<class 'str'>\n",
            " Real-life range of 330km on a full charge\n",
            "<class 'str'>\n",
            " Make more products like these in a good range of price which is affordable for all\n",
            "<class 'str'>\n",
            "The car offers reasonable performance in this range\n",
            "<class 'str'>\n",
            " Real-life range of 330km on a full charge\n",
            "<class 'str'>\n",
            " Make more products like these in a good range of price which is affordable for all\n"
          ]
        }
      ]
    },
    {
      "cell_type": "code",
      "source": [
        "f = open('kona2.txt', 'w')"
      ],
      "metadata": {
        "id": "ZZn4FNF2ysim"
      },
      "execution_count": null,
      "outputs": []
    },
    {
      "cell_type": "code",
      "source": [
        "ls"
      ],
      "metadata": {
        "colab": {
          "base_uri": "https://localhost:8080/"
        },
        "id": "WLZ2f1ocy7Yp",
        "outputId": "d9f8fb8d-5549-49a1-aec9-b8c3d69414fb"
      },
      "execution_count": null,
      "outputs": [
        {
          "output_type": "stream",
          "name": "stdout",
          "text": [
            "kona2.csv  kona_electric_2.csv  mgzs.csv        mgzs.txt   \u001b[0m\u001b[01;34msample_data\u001b[0m/\n",
            "kona2.txt  kona-electric.csv    mg_zs_ev_2.csv  nexon.csv  Tata_nexon_2.csv\n",
            "kona.csv   kona.txt             mg_zs_ev.csv    nexon.txt  Tata_nexon.csv\n"
          ]
        }
      ]
    },
    {
      "cell_type": "code",
      "source": [
        "f.write(\"This is the write command\")\n",
        "f.write(\"It allows us to write in a particular file\")\n",
        "f.close()"
      ],
      "metadata": {
        "id": "5qasTM6NzI-w"
      },
      "execution_count": null,
      "outputs": []
    },
    {
      "cell_type": "code",
      "source": [
        "file = open('kona2.txt', 'r')\n",
        "# This will print every line one by one in the file\n",
        "for each in file:\n",
        "    print (each)"
      ],
      "metadata": {
        "colab": {
          "base_uri": "https://localhost:8080/"
        },
        "id": "24XLkAELzWUg",
        "outputId": "d2f1275f-0c79-420f-a54c-24f6292fde09"
      },
      "execution_count": null,
      "outputs": [
        {
          "output_type": "stream",
          "name": "stdout",
          "text": [
            "This is the write commandIt allows us to write in a particular filee range in one charge is also pretty good as well, so we can go more miles, a catchy car grab our eye balls everyone wants to ride thisThis car is a perfect, modern and stylish car one thing I like about the car it's is long-range and is safe and it so eye-catching a man just cross the road just to ask which Hyundai car is this lastly I love this car I hope you do thanks for your time And I greatly appreciate Hyundai's innovation in bringing electric cars but the price for this is too much and even if the gst gets reduced it will come about 20l but there are many competitors in that range except for the electric transmissionOne of the best EV car available in India with very good range The price is also the best according to the standards of the car and such a long range drive in one charge Real-life range of 330km on a full charge Make more products like these in a good range of price which is affordable for allThe car offers reasonable performance in this range Real-life range of 330km on a full charge Make more products like these in a good range of price which is affordable for all\n"
          ]
        }
      ]
    },
    {
      "cell_type": "code",
      "source": [
        "with open(\"/content/kona2.txt\", \"r\") as file_handle:\n",
        "  df = pd.DataFrame(file_handle.readlines())\n",
        "\n",
        "# Save Dataframe to CSV\n",
        "df.columns = ['Text']\n",
        "df.to_csv(\"/content/kona2.csv\", header='ReviewText')"
      ],
      "metadata": {
        "id": "-RumgQlIqKzW"
      },
      "execution_count": null,
      "outputs": []
    },
    {
      "cell_type": "code",
      "source": [
        "konad=pd.read_csv('kona.csv')\n",
        "konad.head()"
      ],
      "metadata": {
        "colab": {
          "base_uri": "https://localhost:8080/",
          "height": 206
        },
        "id": "OsvCjQtAoGJW",
        "outputId": "7c7c6626-2ac9-4fb3-9d94-7a8fce6b20e7"
      },
      "execution_count": null,
      "outputs": [
        {
          "output_type": "execute_result",
          "data": {
            "text/plain": [
              "                                                Text\n",
              "0  Pretty good car, smooth as a glider fast car, ...\n",
              "1  This car is a perfect, modern and stylish car ...\n",
              "2   And I greatly appreciate Hyundai's innovation...\n",
              "3   Make more products like these in a good range...\n",
              "4                                         poor range"
            ],
            "text/html": [
              "\n",
              "  <div id=\"df-30636dcd-70ee-4df1-9292-2aa4e8fc7e76\">\n",
              "    <div class=\"colab-df-container\">\n",
              "      <div>\n",
              "<style scoped>\n",
              "    .dataframe tbody tr th:only-of-type {\n",
              "        vertical-align: middle;\n",
              "    }\n",
              "\n",
              "    .dataframe tbody tr th {\n",
              "        vertical-align: top;\n",
              "    }\n",
              "\n",
              "    .dataframe thead th {\n",
              "        text-align: right;\n",
              "    }\n",
              "</style>\n",
              "<table border=\"1\" class=\"dataframe\">\n",
              "  <thead>\n",
              "    <tr style=\"text-align: right;\">\n",
              "      <th></th>\n",
              "      <th>Text</th>\n",
              "    </tr>\n",
              "  </thead>\n",
              "  <tbody>\n",
              "    <tr>\n",
              "      <th>0</th>\n",
              "      <td>Pretty good car, smooth as a glider fast car, ...</td>\n",
              "    </tr>\n",
              "    <tr>\n",
              "      <th>1</th>\n",
              "      <td>This car is a perfect, modern and stylish car ...</td>\n",
              "    </tr>\n",
              "    <tr>\n",
              "      <th>2</th>\n",
              "      <td>And I greatly appreciate Hyundai's innovation...</td>\n",
              "    </tr>\n",
              "    <tr>\n",
              "      <th>3</th>\n",
              "      <td>Make more products like these in a good range...</td>\n",
              "    </tr>\n",
              "    <tr>\n",
              "      <th>4</th>\n",
              "      <td>poor range</td>\n",
              "    </tr>\n",
              "  </tbody>\n",
              "</table>\n",
              "</div>\n",
              "      <button class=\"colab-df-convert\" onclick=\"convertToInteractive('df-30636dcd-70ee-4df1-9292-2aa4e8fc7e76')\"\n",
              "              title=\"Convert this dataframe to an interactive table.\"\n",
              "              style=\"display:none;\">\n",
              "        \n",
              "  <svg xmlns=\"http://www.w3.org/2000/svg\" height=\"24px\"viewBox=\"0 0 24 24\"\n",
              "       width=\"24px\">\n",
              "    <path d=\"M0 0h24v24H0V0z\" fill=\"none\"/>\n",
              "    <path d=\"M18.56 5.44l.94 2.06.94-2.06 2.06-.94-2.06-.94-.94-2.06-.94 2.06-2.06.94zm-11 1L8.5 8.5l.94-2.06 2.06-.94-2.06-.94L8.5 2.5l-.94 2.06-2.06.94zm10 10l.94 2.06.94-2.06 2.06-.94-2.06-.94-.94-2.06-.94 2.06-2.06.94z\"/><path d=\"M17.41 7.96l-1.37-1.37c-.4-.4-.92-.59-1.43-.59-.52 0-1.04.2-1.43.59L10.3 9.45l-7.72 7.72c-.78.78-.78 2.05 0 2.83L4 21.41c.39.39.9.59 1.41.59.51 0 1.02-.2 1.41-.59l7.78-7.78 2.81-2.81c.8-.78.8-2.07 0-2.86zM5.41 20L4 18.59l7.72-7.72 1.47 1.35L5.41 20z\"/>\n",
              "  </svg>\n",
              "      </button>\n",
              "      \n",
              "  <style>\n",
              "    .colab-df-container {\n",
              "      display:flex;\n",
              "      flex-wrap:wrap;\n",
              "      gap: 12px;\n",
              "    }\n",
              "\n",
              "    .colab-df-convert {\n",
              "      background-color: #E8F0FE;\n",
              "      border: none;\n",
              "      border-radius: 50%;\n",
              "      cursor: pointer;\n",
              "      display: none;\n",
              "      fill: #1967D2;\n",
              "      height: 32px;\n",
              "      padding: 0 0 0 0;\n",
              "      width: 32px;\n",
              "    }\n",
              "\n",
              "    .colab-df-convert:hover {\n",
              "      background-color: #E2EBFA;\n",
              "      box-shadow: 0px 1px 2px rgba(60, 64, 67, 0.3), 0px 1px 3px 1px rgba(60, 64, 67, 0.15);\n",
              "      fill: #174EA6;\n",
              "    }\n",
              "\n",
              "    [theme=dark] .colab-df-convert {\n",
              "      background-color: #3B4455;\n",
              "      fill: #D2E3FC;\n",
              "    }\n",
              "\n",
              "    [theme=dark] .colab-df-convert:hover {\n",
              "      background-color: #434B5C;\n",
              "      box-shadow: 0px 1px 3px 1px rgba(0, 0, 0, 0.15);\n",
              "      filter: drop-shadow(0px 1px 2px rgba(0, 0, 0, 0.3));\n",
              "      fill: #FFFFFF;\n",
              "    }\n",
              "  </style>\n",
              "\n",
              "      <script>\n",
              "        const buttonEl =\n",
              "          document.querySelector('#df-30636dcd-70ee-4df1-9292-2aa4e8fc7e76 button.colab-df-convert');\n",
              "        buttonEl.style.display =\n",
              "          google.colab.kernel.accessAllowed ? 'block' : 'none';\n",
              "\n",
              "        async function convertToInteractive(key) {\n",
              "          const element = document.querySelector('#df-30636dcd-70ee-4df1-9292-2aa4e8fc7e76');\n",
              "          const dataTable =\n",
              "            await google.colab.kernel.invokeFunction('convertToInteractive',\n",
              "                                                     [key], {});\n",
              "          if (!dataTable) return;\n",
              "\n",
              "          const docLinkHtml = 'Like what you see? Visit the ' +\n",
              "            '<a target=\"_blank\" href=https://colab.research.google.com/notebooks/data_table.ipynb>data table notebook</a>'\n",
              "            + ' to learn more about interactive tables.';\n",
              "          element.innerHTML = '';\n",
              "          dataTable['output_type'] = 'display_data';\n",
              "          await google.colab.output.renderOutput(dataTable, element);\n",
              "          const docLink = document.createElement('div');\n",
              "          docLink.innerHTML = docLinkHtml;\n",
              "          element.appendChild(docLink);\n",
              "        }\n",
              "      </script>\n",
              "    </div>\n",
              "  </div>\n",
              "  "
            ]
          },
          "metadata": {},
          "execution_count": 144
        }
      ]
    },
    {
      "cell_type": "code",
      "source": [
        "konad['Sentiment_Score']=konad['Text'].map(calculate_sentiment)\n",
        "konad.head()\n",
        "konad.Sentiment_Score.describe()"
      ],
      "metadata": {
        "colab": {
          "base_uri": "https://localhost:8080/"
        },
        "id": "ros8qcbqqbSl",
        "outputId": "6abf463e-6c5b-4d9a-ff83-1322a032ade9"
      },
      "execution_count": null,
      "outputs": [
        {
          "output_type": "execute_result",
          "data": {
            "text/plain": [
              "count    5.000000\n",
              "mean     0.293968\n",
              "std      0.398737\n",
              "min     -0.400000\n",
              "25%      0.355556\n",
              "50%      0.414286\n",
              "75%      0.500000\n",
              "max      0.600000\n",
              "Name: Sentiment_Score, dtype: float64"
            ]
          },
          "metadata": {},
          "execution_count": 145
        }
      ]
    },
    {
      "cell_type": "code",
      "source": [
        "konad['Sentiment']=konad['Sentiment_Score'].map(getAnalysis)\n",
        "konad.head()"
      ],
      "metadata": {
        "colab": {
          "base_uri": "https://localhost:8080/",
          "height": 206
        },
        "id": "33oL3peArckD",
        "outputId": "c6157ecb-e81b-44ac-f2e0-a302d9783e51"
      },
      "execution_count": null,
      "outputs": [
        {
          "output_type": "execute_result",
          "data": {
            "text/plain": [
              "                                                Text  Sentiment_Score  \\\n",
              "0  Pretty good car, smooth as a glider fast car, ...         0.355556   \n",
              "1  This car is a perfect, modern and stylish car ...         0.414286   \n",
              "2   And I greatly appreciate Hyundai's innovation...         0.500000   \n",
              "3   Make more products like these in a good range...         0.600000   \n",
              "4                                         poor range        -0.400000   \n",
              "\n",
              "  Sentiment  \n",
              "0  Positive  \n",
              "1  Positive  \n",
              "2  Positive  \n",
              "3  Positive  \n",
              "4  Negative  "
            ],
            "text/html": [
              "\n",
              "  <div id=\"df-0adcc2af-6816-4e47-bcc9-15f02ca4e7b0\">\n",
              "    <div class=\"colab-df-container\">\n",
              "      <div>\n",
              "<style scoped>\n",
              "    .dataframe tbody tr th:only-of-type {\n",
              "        vertical-align: middle;\n",
              "    }\n",
              "\n",
              "    .dataframe tbody tr th {\n",
              "        vertical-align: top;\n",
              "    }\n",
              "\n",
              "    .dataframe thead th {\n",
              "        text-align: right;\n",
              "    }\n",
              "</style>\n",
              "<table border=\"1\" class=\"dataframe\">\n",
              "  <thead>\n",
              "    <tr style=\"text-align: right;\">\n",
              "      <th></th>\n",
              "      <th>Text</th>\n",
              "      <th>Sentiment_Score</th>\n",
              "      <th>Sentiment</th>\n",
              "    </tr>\n",
              "  </thead>\n",
              "  <tbody>\n",
              "    <tr>\n",
              "      <th>0</th>\n",
              "      <td>Pretty good car, smooth as a glider fast car, ...</td>\n",
              "      <td>0.355556</td>\n",
              "      <td>Positive</td>\n",
              "    </tr>\n",
              "    <tr>\n",
              "      <th>1</th>\n",
              "      <td>This car is a perfect, modern and stylish car ...</td>\n",
              "      <td>0.414286</td>\n",
              "      <td>Positive</td>\n",
              "    </tr>\n",
              "    <tr>\n",
              "      <th>2</th>\n",
              "      <td>And I greatly appreciate Hyundai's innovation...</td>\n",
              "      <td>0.500000</td>\n",
              "      <td>Positive</td>\n",
              "    </tr>\n",
              "    <tr>\n",
              "      <th>3</th>\n",
              "      <td>Make more products like these in a good range...</td>\n",
              "      <td>0.600000</td>\n",
              "      <td>Positive</td>\n",
              "    </tr>\n",
              "    <tr>\n",
              "      <th>4</th>\n",
              "      <td>poor range</td>\n",
              "      <td>-0.400000</td>\n",
              "      <td>Negative</td>\n",
              "    </tr>\n",
              "  </tbody>\n",
              "</table>\n",
              "</div>\n",
              "      <button class=\"colab-df-convert\" onclick=\"convertToInteractive('df-0adcc2af-6816-4e47-bcc9-15f02ca4e7b0')\"\n",
              "              title=\"Convert this dataframe to an interactive table.\"\n",
              "              style=\"display:none;\">\n",
              "        \n",
              "  <svg xmlns=\"http://www.w3.org/2000/svg\" height=\"24px\"viewBox=\"0 0 24 24\"\n",
              "       width=\"24px\">\n",
              "    <path d=\"M0 0h24v24H0V0z\" fill=\"none\"/>\n",
              "    <path d=\"M18.56 5.44l.94 2.06.94-2.06 2.06-.94-2.06-.94-.94-2.06-.94 2.06-2.06.94zm-11 1L8.5 8.5l.94-2.06 2.06-.94-2.06-.94L8.5 2.5l-.94 2.06-2.06.94zm10 10l.94 2.06.94-2.06 2.06-.94-2.06-.94-.94-2.06-.94 2.06-2.06.94z\"/><path d=\"M17.41 7.96l-1.37-1.37c-.4-.4-.92-.59-1.43-.59-.52 0-1.04.2-1.43.59L10.3 9.45l-7.72 7.72c-.78.78-.78 2.05 0 2.83L4 21.41c.39.39.9.59 1.41.59.51 0 1.02-.2 1.41-.59l7.78-7.78 2.81-2.81c.8-.78.8-2.07 0-2.86zM5.41 20L4 18.59l7.72-7.72 1.47 1.35L5.41 20z\"/>\n",
              "  </svg>\n",
              "      </button>\n",
              "      \n",
              "  <style>\n",
              "    .colab-df-container {\n",
              "      display:flex;\n",
              "      flex-wrap:wrap;\n",
              "      gap: 12px;\n",
              "    }\n",
              "\n",
              "    .colab-df-convert {\n",
              "      background-color: #E8F0FE;\n",
              "      border: none;\n",
              "      border-radius: 50%;\n",
              "      cursor: pointer;\n",
              "      display: none;\n",
              "      fill: #1967D2;\n",
              "      height: 32px;\n",
              "      padding: 0 0 0 0;\n",
              "      width: 32px;\n",
              "    }\n",
              "\n",
              "    .colab-df-convert:hover {\n",
              "      background-color: #E2EBFA;\n",
              "      box-shadow: 0px 1px 2px rgba(60, 64, 67, 0.3), 0px 1px 3px 1px rgba(60, 64, 67, 0.15);\n",
              "      fill: #174EA6;\n",
              "    }\n",
              "\n",
              "    [theme=dark] .colab-df-convert {\n",
              "      background-color: #3B4455;\n",
              "      fill: #D2E3FC;\n",
              "    }\n",
              "\n",
              "    [theme=dark] .colab-df-convert:hover {\n",
              "      background-color: #434B5C;\n",
              "      box-shadow: 0px 1px 3px 1px rgba(0, 0, 0, 0.15);\n",
              "      filter: drop-shadow(0px 1px 2px rgba(0, 0, 0, 0.3));\n",
              "      fill: #FFFFFF;\n",
              "    }\n",
              "  </style>\n",
              "\n",
              "      <script>\n",
              "        const buttonEl =\n",
              "          document.querySelector('#df-0adcc2af-6816-4e47-bcc9-15f02ca4e7b0 button.colab-df-convert');\n",
              "        buttonEl.style.display =\n",
              "          google.colab.kernel.accessAllowed ? 'block' : 'none';\n",
              "\n",
              "        async function convertToInteractive(key) {\n",
              "          const element = document.querySelector('#df-0adcc2af-6816-4e47-bcc9-15f02ca4e7b0');\n",
              "          const dataTable =\n",
              "            await google.colab.kernel.invokeFunction('convertToInteractive',\n",
              "                                                     [key], {});\n",
              "          if (!dataTable) return;\n",
              "\n",
              "          const docLinkHtml = 'Like what you see? Visit the ' +\n",
              "            '<a target=\"_blank\" href=https://colab.research.google.com/notebooks/data_table.ipynb>data table notebook</a>'\n",
              "            + ' to learn more about interactive tables.';\n",
              "          element.innerHTML = '';\n",
              "          dataTable['output_type'] = 'display_data';\n",
              "          await google.colab.output.renderOutput(dataTable, element);\n",
              "          const docLink = document.createElement('div');\n",
              "          docLink.innerHTML = docLinkHtml;\n",
              "          element.appendChild(docLink);\n",
              "        }\n",
              "      </script>\n",
              "    </div>\n",
              "  </div>\n",
              "  "
            ]
          },
          "metadata": {},
          "execution_count": 146
        }
      ]
    },
    {
      "cell_type": "code",
      "source": [
        "Positive = konad.Sentiment.str.split(expand=True).stack().value_counts().Positive\n",
        "Negative = konad.Sentiment.str.split(expand=True).stack().value_counts().Negative\n",
        "Neutral =0\n",
        "labels = ['Positive', 'Negative', 'Neutral']\n",
        "x = [Positive, Negative, Neutral]\n",
        "\n",
        "plt.pie(x, labels=labels, autopct='%1.1f%%', explode=[0.1, 0.2, 0], shadow=True, startangle=90)\n",
        "plt.title('Kona Electric', fontsize=20)\n",
        "plt.legend(title=\"Attributes\", loc=\"lower right\")\n",
        "plt.axis('equal')\n",
        "plt.subplots_adjust(left=0, bottom=0.1, right=1)\n",
        "fig = plt.gcf()\n",
        "fig.set_size_inches(6,6)\n",
        "plt.show()"
      ],
      "metadata": {
        "colab": {
          "base_uri": "https://localhost:8080/",
          "height": 384
        },
        "id": "9K1v3oDXoGOL",
        "outputId": "02f5b174-f81d-4223-d337-30e0376aee5c"
      },
      "execution_count": null,
      "outputs": [
        {
          "output_type": "display_data",
          "data": {
            "text/plain": [
              "<Figure size 432x432 with 1 Axes>"
            ],
            "image/png": "[encoded data removed]"
          },
          "metadata": {}
        }
      ]
    },
    {
      "cell_type": "markdown",
      "source": [
        "MG ZS EV"
      ],
      "metadata": {
        "id": "vDd5eOLjC_KY"
      }
    },
    {
      "cell_type": "code",
      "source": [
        "data_mg = pd.concat(map(pd.read_csv, ['/content/mg_zs_ev.csv', '/content/mg_zs_ev_2.csv']))"
      ],
      "metadata": {
        "id": "WPiqGHQAC8Ir"
      },
      "execution_count": null,
      "outputs": []
    },
    {
      "cell_type": "code",
      "source": [
        "data_mg['Preprocessed_Review']=data_mg['Review'].map(preprocess_sentence)"
      ],
      "metadata": {
        "id": "Tc0WhjVGDMNp"
      },
      "execution_count": null,
      "outputs": []
    },
    {
      "cell_type": "code",
      "source": [
        "Range = data_mg.Preprocessed_Review.str.split(expand=True).stack().value_counts().range\n",
        "Power = data_mg.Preprocessed_Review.str.split(expand=True).stack().value_counts().power\n",
        "Performance = data_mg.Preprocessed_Review.str.split(expand=True).stack().value_counts().performance\n",
        "comfort = data_mg.Preprocessed_Review.str.split(expand=True).stack().value_counts().comfort\n",
        "Mileage = data_mg.Preprocessed_Review.str.split(expand=True).stack().value_counts().mileage \n",
        "design = data_mg.Preprocessed_Review.str.split(expand=True).stack().value_counts().design "
      ],
      "metadata": {
        "id": "DaNmZE8MDQ50"
      },
      "execution_count": null,
      "outputs": []
    },
    {
      "cell_type": "code",
      "source": [
        "labels = ['Range', 'Power', 'Comfort', 'Performance', 'Mileage', 'Design']\n",
        "x = [Range, Power, comfort, Performance, Mileage, design]\n",
        "\n",
        "plt.pie(x, labels=labels, autopct='%1.1f%%', explode=[0.1,0,0,0,0,0], shadow=True, startangle=90)\n",
        "plt.title('MG ZS EV')\n",
        "plt.legend(title=\"Attributes\", loc=\"lower left\")\n",
        "plt.axis('equal')\n",
        "plt.subplots_adjust(left=0, bottom=0.1, right=1)\n",
        "fig = plt.gcf()\n",
        "fig.set_size_inches(6,6) \n",
        "plt.show()"
      ],
      "metadata": {
        "colab": {
          "base_uri": "https://localhost:8080/",
          "height": 384
        },
        "id": "_DbLMMXEDdZJ",
        "outputId": "bfdb1567-c6a2-4e0f-883d-99013dd28612"
      },
      "execution_count": null,
      "outputs": [
        {
          "output_type": "display_data",
          "data": {
            "text/plain": [
              "<Figure size 432x432 with 1 Axes>"
            ],
            "image/png": "[encoded data removed]"
          },
          "metadata": {}
        }
      ]
    },
    {
      "cell_type": "code",
      "source": [
        "for review in data_mg['Review']:\n",
        "  review = re.compile('[.?!]').split(review)\n",
        "  for i in review:\n",
        "    if 'range' in i:\n",
        "      print(i)"
      ],
      "metadata": {
        "id": "wLZTxK54DwUi",
        "colab": {
          "base_uri": "https://localhost:8080/"
        },
        "outputId": "5bcfd61a-4037-4b59-def8-0a0b91c407e0"
      },
      "execution_count": null,
      "outputs": [
        {
          "output_type": "stream",
          "name": "stdout",
          "text": [
            "ZS EV is one of the premium EVs in India, with more efficiency and reliability than any other EVs in India at an affordable range\n",
            "In terms of driving performance and range, This will be the most preferable choice and i'm very much opted towards the upliftment of e-mobility, So considering that, Mg zs ev 2022 will be a perfect choice\n",
            "Orange car in india launch date on 2022, 6 seater better car, Automatic\n",
            " And looking at EV cars it is the best mid-range model EV\n",
            "Outstanding features with great driving range\n",
            "Outstanding features with great driving range\n"
          ]
        }
      ]
    },
    {
      "cell_type": "code",
      "source": [
        "with open(\"/content/mgzs.txt\", \"r\") as file_handle:\n",
        "  df = pd.DataFrame(file_handle.readlines())\n",
        "\n",
        "# Save Dataframe to CSV\n",
        "df.to_csv(\"/content/mgzs.csv\", header='ReviewText')"
      ],
      "metadata": {
        "id": "06McruAWkA8H"
      },
      "execution_count": null,
      "outputs": []
    },
    {
      "cell_type": "code",
      "source": [
        "mgdata = pd.read_csv('mgzs.csv')\n",
        "mgdata.head()"
      ],
      "metadata": {
        "id": "QHO2CLjCkfPv",
        "colab": {
          "base_uri": "https://localhost:8080/",
          "height": 206
        },
        "outputId": "463a00d9-913f-4e3c-9af7-0f63e4f00978"
      },
      "execution_count": null,
      "outputs": [
        {
          "output_type": "execute_result",
          "data": {
            "text/plain": [
              "                                                Text\n",
              "0  ZS EV is one of the premium EVs in India, with...\n",
              "1  In terms of driving performance and range, Thi...\n",
              "2  Orange car in india launch date on 2022, 6 sea...\n",
              "3   And looking at EV cars it is the best mid-ran...\n",
              "4      Outstanding features with great driving range"
            ],
            "text/html": [
              "\n",
              "  <div id=\"df-66e61f53-cd96-4636-97b6-b1abc2f6ce95\">\n",
              "    <div class=\"colab-df-container\">\n",
              "      <div>\n",
              "<style scoped>\n",
              "    .dataframe tbody tr th:only-of-type {\n",
              "        vertical-align: middle;\n",
              "    }\n",
              "\n",
              "    .dataframe tbody tr th {\n",
              "        vertical-align: top;\n",
              "    }\n",
              "\n",
              "    .dataframe thead th {\n",
              "        text-align: right;\n",
              "    }\n",
              "</style>\n",
              "<table border=\"1\" class=\"dataframe\">\n",
              "  <thead>\n",
              "    <tr style=\"text-align: right;\">\n",
              "      <th></th>\n",
              "      <th>Text</th>\n",
              "    </tr>\n",
              "  </thead>\n",
              "  <tbody>\n",
              "    <tr>\n",
              "      <th>0</th>\n",
              "      <td>ZS EV is one of the premium EVs in India, with...</td>\n",
              "    </tr>\n",
              "    <tr>\n",
              "      <th>1</th>\n",
              "      <td>In terms of driving performance and range, Thi...</td>\n",
              "    </tr>\n",
              "    <tr>\n",
              "      <th>2</th>\n",
              "      <td>Orange car in india launch date on 2022, 6 sea...</td>\n",
              "    </tr>\n",
              "    <tr>\n",
              "      <th>3</th>\n",
              "      <td>And looking at EV cars it is the best mid-ran...</td>\n",
              "    </tr>\n",
              "    <tr>\n",
              "      <th>4</th>\n",
              "      <td>Outstanding features with great driving range</td>\n",
              "    </tr>\n",
              "  </tbody>\n",
              "</table>\n",
              "</div>\n",
              "      <button class=\"colab-df-convert\" onclick=\"convertToInteractive('df-66e61f53-cd96-4636-97b6-b1abc2f6ce95')\"\n",
              "              title=\"Convert this dataframe to an interactive table.\"\n",
              "              style=\"display:none;\">\n",
              "        \n",
              "  <svg xmlns=\"http://www.w3.org/2000/svg\" height=\"24px\"viewBox=\"0 0 24 24\"\n",
              "       width=\"24px\">\n",
              "    <path d=\"M0 0h24v24H0V0z\" fill=\"none\"/>\n",
              "    <path d=\"M18.56 5.44l.94 2.06.94-2.06 2.06-.94-2.06-.94-.94-2.06-.94 2.06-2.06.94zm-11 1L8.5 8.5l.94-2.06 2.06-.94-2.06-.94L8.5 2.5l-.94 2.06-2.06.94zm10 10l.94 2.06.94-2.06 2.06-.94-2.06-.94-.94-2.06-.94 2.06-2.06.94z\"/><path d=\"M17.41 7.96l-1.37-1.37c-.4-.4-.92-.59-1.43-.59-.52 0-1.04.2-1.43.59L10.3 9.45l-7.72 7.72c-.78.78-.78 2.05 0 2.83L4 21.41c.39.39.9.59 1.41.59.51 0 1.02-.2 1.41-.59l7.78-7.78 2.81-2.81c.8-.78.8-2.07 0-2.86zM5.41 20L4 18.59l7.72-7.72 1.47 1.35L5.41 20z\"/>\n",
              "  </svg>\n",
              "      </button>\n",
              "      \n",
              "  <style>\n",
              "    .colab-df-container {\n",
              "      display:flex;\n",
              "      flex-wrap:wrap;\n",
              "      gap: 12px;\n",
              "    }\n",
              "\n",
              "    .colab-df-convert {\n",
              "      background-color: #E8F0FE;\n",
              "      border: none;\n",
              "      border-radius: 50%;\n",
              "      cursor: pointer;\n",
              "      display: none;\n",
              "      fill: #1967D2;\n",
              "      height: 32px;\n",
              "      padding: 0 0 0 0;\n",
              "      width: 32px;\n",
              "    }\n",
              "\n",
              "    .colab-df-convert:hover {\n",
              "      background-color: #E2EBFA;\n",
              "      box-shadow: 0px 1px 2px rgba(60, 64, 67, 0.3), 0px 1px 3px 1px rgba(60, 64, 67, 0.15);\n",
              "      fill: #174EA6;\n",
              "    }\n",
              "\n",
              "    [theme=dark] .colab-df-convert {\n",
              "      background-color: #3B4455;\n",
              "      fill: #D2E3FC;\n",
              "    }\n",
              "\n",
              "    [theme=dark] .colab-df-convert:hover {\n",
              "      background-color: #434B5C;\n",
              "      box-shadow: 0px 1px 3px 1px rgba(0, 0, 0, 0.15);\n",
              "      filter: drop-shadow(0px 1px 2px rgba(0, 0, 0, 0.3));\n",
              "      fill: #FFFFFF;\n",
              "    }\n",
              "  </style>\n",
              "\n",
              "      <script>\n",
              "        const buttonEl =\n",
              "          document.querySelector('#df-66e61f53-cd96-4636-97b6-b1abc2f6ce95 button.colab-df-convert');\n",
              "        buttonEl.style.display =\n",
              "          google.colab.kernel.accessAllowed ? 'block' : 'none';\n",
              "\n",
              "        async function convertToInteractive(key) {\n",
              "          const element = document.querySelector('#df-66e61f53-cd96-4636-97b6-b1abc2f6ce95');\n",
              "          const dataTable =\n",
              "            await google.colab.kernel.invokeFunction('convertToInteractive',\n",
              "                                                     [key], {});\n",
              "          if (!dataTable) return;\n",
              "\n",
              "          const docLinkHtml = 'Like what you see? Visit the ' +\n",
              "            '<a target=\"_blank\" href=https://colab.research.google.com/notebooks/data_table.ipynb>data table notebook</a>'\n",
              "            + ' to learn more about interactive tables.';\n",
              "          element.innerHTML = '';\n",
              "          dataTable['output_type'] = 'display_data';\n",
              "          await google.colab.output.renderOutput(dataTable, element);\n",
              "          const docLink = document.createElement('div');\n",
              "          docLink.innerHTML = docLinkHtml;\n",
              "          element.appendChild(docLink);\n",
              "        }\n",
              "      </script>\n",
              "    </div>\n",
              "  </div>\n",
              "  "
            ]
          },
          "metadata": {},
          "execution_count": 157
        }
      ]
    },
    {
      "cell_type": "code",
      "source": [
        "mgdata['Sentiment_Score']=mgdata['Text'].map(calculate_sentiment)\n",
        "mgdata.head()\n",
        "mgdata.Sentiment_Score.describe()"
      ],
      "metadata": {
        "colab": {
          "base_uri": "https://localhost:8080/"
        },
        "id": "ObyBo-2vkpM2",
        "outputId": "bd761220-e945-49d2-ed84-995625eeb890"
      },
      "execution_count": null,
      "outputs": [
        {
          "output_type": "execute_result",
          "data": {
            "text/plain": [
              "count    5.000000\n",
              "mean     0.584833\n",
              "std      0.292269\n",
              "min      0.187500\n",
              "25%      0.500000\n",
              "50%      0.586667\n",
              "75%      0.650000\n",
              "max      1.000000\n",
              "Name: Sentiment_Score, dtype: float64"
            ]
          },
          "metadata": {},
          "execution_count": 158
        }
      ]
    },
    {
      "cell_type": "code",
      "source": [
        "mgdata['Sentiment']=mgdata['Sentiment_Score'].map(getAnalysis)\n",
        "mgdata.head()"
      ],
      "metadata": {
        "colab": {
          "base_uri": "https://localhost:8080/",
          "height": 206
        },
        "id": "keIi-nDMk8vo",
        "outputId": "baf59321-3394-4279-b0b2-2131a5251750"
      },
      "execution_count": null,
      "outputs": [
        {
          "output_type": "execute_result",
          "data": {
            "text/plain": [
              "                                                Text  Sentiment_Score  \\\n",
              "0  ZS EV is one of the premium EVs in India, with...         0.187500   \n",
              "1  In terms of driving performance and range, Thi...         0.586667   \n",
              "2  Orange car in india launch date on 2022, 6 sea...         0.500000   \n",
              "3   And looking at EV cars it is the best mid-ran...         1.000000   \n",
              "4      Outstanding features with great driving range         0.650000   \n",
              "\n",
              "  Sentiment  \n",
              "0  Positive  \n",
              "1  Positive  \n",
              "2  Positive  \n",
              "3  Positive  \n",
              "4  Positive  "
            ],
            "text/html": [
              "\n",
              "  <div id=\"df-bcebf41c-5b54-4215-9266-a81210335517\">\n",
              "    <div class=\"colab-df-container\">\n",
              "      <div>\n",
              "<style scoped>\n",
              "    .dataframe tbody tr th:only-of-type {\n",
              "        vertical-align: middle;\n",
              "    }\n",
              "\n",
              "    .dataframe tbody tr th {\n",
              "        vertical-align: top;\n",
              "    }\n",
              "\n",
              "    .dataframe thead th {\n",
              "        text-align: right;\n",
              "    }\n",
              "</style>\n",
              "<table border=\"1\" class=\"dataframe\">\n",
              "  <thead>\n",
              "    <tr style=\"text-align: right;\">\n",
              "      <th></th>\n",
              "      <th>Text</th>\n",
              "      <th>Sentiment_Score</th>\n",
              "      <th>Sentiment</th>\n",
              "    </tr>\n",
              "  </thead>\n",
              "  <tbody>\n",
              "    <tr>\n",
              "      <th>0</th>\n",
              "      <td>ZS EV is one of the premium EVs in India, with...</td>\n",
              "      <td>0.187500</td>\n",
              "      <td>Positive</td>\n",
              "    </tr>\n",
              "    <tr>\n",
              "      <th>1</th>\n",
              "      <td>In terms of driving performance and range, Thi...</td>\n",
              "      <td>0.586667</td>\n",
              "      <td>Positive</td>\n",
              "    </tr>\n",
              "    <tr>\n",
              "      <th>2</th>\n",
              "      <td>Orange car in india launch date on 2022, 6 sea...</td>\n",
              "      <td>0.500000</td>\n",
              "      <td>Positive</td>\n",
              "    </tr>\n",
              "    <tr>\n",
              "      <th>3</th>\n",
              "      <td>And looking at EV cars it is the best mid-ran...</td>\n",
              "      <td>1.000000</td>\n",
              "      <td>Positive</td>\n",
              "    </tr>\n",
              "    <tr>\n",
              "      <th>4</th>\n",
              "      <td>Outstanding features with great driving range</td>\n",
              "      <td>0.650000</td>\n",
              "      <td>Positive</td>\n",
              "    </tr>\n",
              "  </tbody>\n",
              "</table>\n",
              "</div>\n",
              "      <button class=\"colab-df-convert\" onclick=\"convertToInteractive('df-bcebf41c-5b54-4215-9266-a81210335517')\"\n",
              "              title=\"Convert this dataframe to an interactive table.\"\n",
              "              style=\"display:none;\">\n",
              "        \n",
              "  <svg xmlns=\"http://www.w3.org/2000/svg\" height=\"24px\"viewBox=\"0 0 24 24\"\n",
              "       width=\"24px\">\n",
              "    <path d=\"M0 0h24v24H0V0z\" fill=\"none\"/>\n",
              "    <path d=\"M18.56 5.44l.94 2.06.94-2.06 2.06-.94-2.06-.94-.94-2.06-.94 2.06-2.06.94zm-11 1L8.5 8.5l.94-2.06 2.06-.94-2.06-.94L8.5 2.5l-.94 2.06-2.06.94zm10 10l.94 2.06.94-2.06 2.06-.94-2.06-.94-.94-2.06-.94 2.06-2.06.94z\"/><path d=\"M17.41 7.96l-1.37-1.37c-.4-.4-.92-.59-1.43-.59-.52 0-1.04.2-1.43.59L10.3 9.45l-7.72 7.72c-.78.78-.78 2.05 0 2.83L4 21.41c.39.39.9.59 1.41.59.51 0 1.02-.2 1.41-.59l7.78-7.78 2.81-2.81c.8-.78.8-2.07 0-2.86zM5.41 20L4 18.59l7.72-7.72 1.47 1.35L5.41 20z\"/>\n",
              "  </svg>\n",
              "      </button>\n",
              "      \n",
              "  <style>\n",
              "    .colab-df-container {\n",
              "      display:flex;\n",
              "      flex-wrap:wrap;\n",
              "      gap: 12px;\n",
              "    }\n",
              "\n",
              "    .colab-df-convert {\n",
              "      background-color: #E8F0FE;\n",
              "      border: none;\n",
              "      border-radius: 50%;\n",
              "      cursor: pointer;\n",
              "      display: none;\n",
              "      fill: #1967D2;\n",
              "      height: 32px;\n",
              "      padding: 0 0 0 0;\n",
              "      width: 32px;\n",
              "    }\n",
              "\n",
              "    .colab-df-convert:hover {\n",
              "      background-color: #E2EBFA;\n",
              "      box-shadow: 0px 1px 2px rgba(60, 64, 67, 0.3), 0px 1px 3px 1px rgba(60, 64, 67, 0.15);\n",
              "      fill: #174EA6;\n",
              "    }\n",
              "\n",
              "    [theme=dark] .colab-df-convert {\n",
              "      background-color: #3B4455;\n",
              "      fill: #D2E3FC;\n",
              "    }\n",
              "\n",
              "    [theme=dark] .colab-df-convert:hover {\n",
              "      background-color: #434B5C;\n",
              "      box-shadow: 0px 1px 3px 1px rgba(0, 0, 0, 0.15);\n",
              "      filter: drop-shadow(0px 1px 2px rgba(0, 0, 0, 0.3));\n",
              "      fill: #FFFFFF;\n",
              "    }\n",
              "  </style>\n",
              "\n",
              "      <script>\n",
              "        const buttonEl =\n",
              "          document.querySelector('#df-bcebf41c-5b54-4215-9266-a81210335517 button.colab-df-convert');\n",
              "        buttonEl.style.display =\n",
              "          google.colab.kernel.accessAllowed ? 'block' : 'none';\n",
              "\n",
              "        async function convertToInteractive(key) {\n",
              "          const element = document.querySelector('#df-bcebf41c-5b54-4215-9266-a81210335517');\n",
              "          const dataTable =\n",
              "            await google.colab.kernel.invokeFunction('convertToInteractive',\n",
              "                                                     [key], {});\n",
              "          if (!dataTable) return;\n",
              "\n",
              "          const docLinkHtml = 'Like what you see? Visit the ' +\n",
              "            '<a target=\"_blank\" href=https://colab.research.google.com/notebooks/data_table.ipynb>data table notebook</a>'\n",
              "            + ' to learn more about interactive tables.';\n",
              "          element.innerHTML = '';\n",
              "          dataTable['output_type'] = 'display_data';\n",
              "          await google.colab.output.renderOutput(dataTable, element);\n",
              "          const docLink = document.createElement('div');\n",
              "          docLink.innerHTML = docLinkHtml;\n",
              "          element.appendChild(docLink);\n",
              "        }\n",
              "      </script>\n",
              "    </div>\n",
              "  </div>\n",
              "  "
            ]
          },
          "metadata": {},
          "execution_count": 159
        }
      ]
    },
    {
      "cell_type": "code",
      "source": [
        "Positive = mgdata.Sentiment.str.split(expand=True).stack().value_counts().Positive\n",
        "Negative = 0\n",
        "Neutral = 0\n",
        "\n",
        "labels = ['Positive', 'Negative', 'Neutral']\n",
        "x = [Positive, Negative, Neutral]\n",
        "\n",
        "plt.pie(x, labels=labels, autopct='%1.1f%%', explode=[0.1, 0.2, 0], shadow=True, startangle=90)\n",
        "plt.title('MG ZS EV')\n",
        "plt.legend(title=\"Attributes\", loc=\"lower right\")\n",
        "plt.axis('equal')\n",
        "plt.subplots_adjust(left=0, bottom=0.1, right=1)\n",
        "fig = plt.gcf()\n",
        "fig.set_size_inches(6,6)\n",
        "plt.show()"
      ],
      "metadata": {
        "colab": {
          "base_uri": "https://localhost:8080/",
          "height": 387
        },
        "id": "Ftn_TFcLm-Nj",
        "outputId": "77f63315-b256-4517-886e-7909d209a508"
      },
      "execution_count": null,
      "outputs": [
        {
          "output_type": "display_data",
          "data": {
            "text/plain": [
              "<Figure size 432x432 with 1 Axes>"
            ],
            "image/png": "[encoded data removed]"
          },
          "metadata": {}
        }
      ]
    },
    {
      "cell_type": "markdown",
      "source": [
        "Predict sentiment"
      ],
      "metadata": {
        "id": "0OHVsGagHsGf"
      }
    },
    {
      "cell_type": "code",
      "source": [
        "text = input(\"enter review: \")\n",
        "score = TextBlob(text).sentiment.polarity\n",
        "print(getAnalysis(score))"
      ],
      "metadata": {
        "id": "t6vmv01knRUv",
        "colab": {
          "base_uri": "https://localhost:8080/"
        },
        "outputId": "cd181b6b-3b7a-4ced-89d7-3ba13b5395f4"
      },
      "execution_count": null,
      "outputs": [
        {
          "output_type": "stream",
          "name": "stdout",
          "text": [
            "enter review: Car i really good\n",
            "Positive\n"
          ]
        }
      ]
    },
    {
      "cell_type": "code",
      "source": [
        ""
      ],
      "metadata": {
        "id": "veRqnc8yH2z7"
      },
      "execution_count": null,
      "outputs": []
    }
  ]
}